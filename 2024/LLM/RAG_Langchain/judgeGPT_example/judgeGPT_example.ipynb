{
 "cells": [
  {
   "cell_type": "markdown",
   "metadata": {},
   "source": [
    "ref : \n",
    "\n",
    "https://colab.research.google.com/drive/1Ucu0BHXFTp70jyqNOMUwX_FLEhyE8kJv?usp=sharing%EF%BB%BF#scrollTo=tlfH-WbmUfFb\n",
    "\n",
    "https://python.langchain.com/docs/modules/data_connection/retrievers/contextual_compression/"
   ]
  },
  {
   "cell_type": "code",
   "execution_count": 1,
   "metadata": {},
   "outputs": [],
   "source": [
    "# judge GPT\n",
    "# 판례문에 대해서 통째로 retriever 하는 것 대신\n",
    "# 먼서 retriever 구성 후, llm으로 해당 내용 요약\n",
    "# 그리고 요약된 내용을 다시 vector db에 저장 \n",
    "# 이후 user input에 대해서는 요약내용이 포함된 vector db를 바탕으로 retriever 동작 및 llm 답변 진행"
   ]
  },
  {
   "cell_type": "code",
   "execution_count": null,
   "metadata": {},
   "outputs": [],
   "source": [
    "# 판결문 데이터\n",
    "# https://www.aihub.or.kr/aihubdata/data/view.do?currMenu=115&topMenu=100&aihubDataSe=data&dataSetSn=580\n",
    "# 샘플데이터 중 판결문 > 라벨링데이터 로 테스트\n",
    "\n"
   ]
  }
 ],
 "metadata": {
  "language_info": {
   "name": "python"
  }
 },
 "nbformat": 4,
 "nbformat_minor": 2
}
