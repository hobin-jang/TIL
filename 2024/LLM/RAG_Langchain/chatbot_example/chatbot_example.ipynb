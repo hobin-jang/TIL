{
 "cells": [
  {
   "cell_type": "markdown",
   "metadata": {},
   "source": [
    "ref : \n",
    "\n",
    "https://colab.research.google.com/drive/1YrmsVYrzcvPaWht-yXPbqthiJvHf78qB?usp=sharing%EF%BB%BF\n",
    "\n",
    "https://python.langchain.com/docs/use_cases/chatbots/"
   ]
  },
  {
   "cell_type": "code",
   "execution_count": null,
   "metadata": {},
   "outputs": [],
   "source": [
    "# OpenAI API Key \n",
    "# 로컬 모델은 일단 너무 느린 듯....\n",
    "\n",
    "OPENAI_KEY = "
   ]
  }
 ],
 "metadata": {
  "language_info": {
   "name": "python"
  }
 },
 "nbformat": 4,
 "nbformat_minor": 2
}
