{
 "cells": [
  {
   "cell_type": "code",
   "execution_count": 1,
   "metadata": {},
   "outputs": [],
   "source": [
    "# langchain + json + qdrant 테스트 "
   ]
  },
  {
   "cell_type": "code",
   "execution_count": 35,
   "metadata": {},
   "outputs": [],
   "source": [
    "# qdrant + huggingface local embedding model\n",
    "from langchain.vectorstores import FAISS\n",
    "from langchain.document_loaders import JSONLoader\n",
    "from langchain.prompts import PromptTemplate \n",
    "from langchain.embeddings import GPT4AllEmbeddings\n",
    "from langchain.llms import Ollama\n",
    "from langchain.docstore.document import Document\n",
    "from langchain.text_splitter import RecursiveCharacterTextSplitter"
   ]
  },
  {
   "cell_type": "code",
   "execution_count": 36,
   "metadata": {},
   "outputs": [],
   "source": [
    "import json \n",
    "# json load and store in docs\n",
    "# windows jq error\n",
    "\n",
    "docs = []\n",
    "\n",
    "file_path = \"./drake_data.json\"\n",
    "with open(file_path, \"r\", encoding='cp949') as f :\n",
    "    json_load = json.load(f)\n",
    "\n",
    "# 100 data\n",
    "cnt = 0\n",
    "for data in json_load :\n",
    "    if cnt == 100 :\n",
    "        break\n",
    "    album = data[\"album\"]\n",
    "    title = data[\"lyrics_title\"][:-7]\n",
    "    url = data[\"lyrics_url\"]\n",
    "    lyrics = data[\"lyrics\"]\n",
    "    track_views = data[\"track_views\"]\n",
    "\n",
    "    if track_views is None : \n",
    "        track_views = \"0.0\"\n",
    "    else :\n",
    "        if track_views[-1] == 'K' : \n",
    "            track_views = str(float(track_views[:-1]) * 1000)\n",
    "        elif track_views[-1] == 'M' : \n",
    "            track_views = str(float(track_views[:-1]) * 1000000)\n",
    "\n",
    "    cnt += 1\n",
    "    \n",
    "    content = lyrics\n",
    "    metadata = dict(album=album, title=title, views=track_views, ref_url=url, ref_file=file_path)\n",
    "    docs.append(Document(page_content=content, metadata=metadata))"
   ]
  },
  {
   "cell_type": "code",
   "execution_count": 37,
   "metadata": {},
   "outputs": [
    {
     "data": {
      "text/plain": [
       "Document(page_content=\"Lyrics from CLB Merch\\n\\n[Verse]\\nPut my feelings on ice\\nAlways been a gem\\nCertified lover boy, somehow still heartless\\nHeart is only gettin' colder\", metadata={'album': 'Certified Lover Boy', 'title': 'Certified Lover Boy*', 'views': '8700.0', 'ref_url': 'https://genius.com/Drake-certified-lover-boy-lyrics', 'ref_file': './drake_data.json'})"
      ]
     },
     "execution_count": 37,
     "metadata": {},
     "output_type": "execute_result"
    }
   ],
   "source": [
    "docs[0]"
   ]
  },
  {
   "cell_type": "code",
   "execution_count": 39,
   "metadata": {},
   "outputs": [],
   "source": [
    "text_splitter = RecursiveCharacterTextSplitter(chunk_size=1000, chunk_overlap=100)\n",
    "docs = text_splitter.split_documents(docs)"
   ]
  },
  {
   "cell_type": "code",
   "execution_count": 40,
   "metadata": {},
   "outputs": [
    {
     "name": "stderr",
     "output_type": "stream",
     "text": [
      "Downloading: 100%|██████████| 45.9M/45.9M [00:01<00:00, 24.4MiB/s]\n",
      "Verifying: 100%|██████████| 45.9M/45.9M [00:00<00:00, 753MiB/s]\n"
     ]
    }
   ],
   "source": [
    "# embedding 모델 연결 및 벡터 db 구성\n",
    "# FAISS-cpu\n",
    "\n",
    "embedding = GPT4AllEmbeddings()\n",
    "vector_store = FAISS.from_documents(docs, embedding)"
   ]
  },
  {
   "cell_type": "code",
   "execution_count": 43,
   "metadata": {},
   "outputs": [
    {
     "name": "stdout",
     "output_type": "stream",
     "text": [
      "394\n",
      "[Document(page_content=\"[Verse 1: Drake]\\nUh, man, fresh up out the sand, February tan\\nIt's The Boy but I'm still the man, come and get your mans\\nI don't know, first you caught the hands, then you took the stand\\nIt's a joke, but you say you real—I don't understand\\nOn a yacht, me and all the dogs actin' like some dogs\\nWe evolved, used to think vacation meant Niagara Falls\\nSwear to God, shout to Buffalo, never duckin' low\\nI don't stop, man, I'm stuck on go, always hug the road\\nFuck a opp, make his body roll, yeah, a lot of those\\nStarted out doin' college shows, Calipari flow\\nThen I popped like you never seen\\nWe with everything, I went off in the '16, give me '17\\n\\n[Chorus: Drake]\\nWant a lot, can't have everything, can't have everything\\nWant a lot, can't have everything but I want everything\", metadata={'album': 'More Life', 'title': \"Can't Have Everything\", 'views': '597200.0', 'ref_url': 'https://genius.com/Drake-cant-have-everything-lyrics', 'ref_file': './drake_data.json'}), Document(page_content=\"Lyrics from CLB Merch\\n\\n[Verse]\\nPut my feelings on ice\\nAlways been a gem\\nCertified lover boy, somehow still heartless\\nHeart is only gettin' colder\", metadata={'album': 'Certified Lover Boy', 'title': 'Certified Lover Boy*', 'views': '8700.0', 'ref_url': 'https://genius.com/Drake-certified-lover-boy-lyrics', 'ref_file': './drake_data.json'}), Document(page_content=\"[Intro]\\nYeah, I get it\\nI get it, yeah\\n\\n[Verse 1]\\nWhy would I say all these things to have you feelin' a way?\\nWhy would I tell you I'm 30 away if I'm not on the way?\\nWhy do I settle for women that force me to pick up the pieces?\\nWhy do I want an independent woman\\nTo feel like she needs me?—I lost my way\\n\\n[Chorus]\\nI'm searchin' for these words to say to you\\nPlease give me time\\nCause I'm searchin' for these words to say to you\\nOh, please give me time\\nCause I'm searchin' for these words to say to you right now\\nRedemption's on your mind when you think about me, yeah\\nRedemption's on your mind when you think about me, yeah\", metadata={'album': 'Views', 'title': 'Redemption', 'views': '1100000.0', 'ref_url': 'https://genius.com/Drake-redemption-lyrics', 'ref_file': './drake_data.json'}), Document(page_content=\"[Chorus: Drake]\\nAnd I'm convinced\\nI made sacrifices, I been ballin' ever since\\nWe seein' so many blessings, shit don't make no sense\\nSomeone watchin' over us, so shout goes out to Him\\nYeah, I'm convinced\\nI made sacrifices, I been ballin' ever since\\nYeah, I did some wrong, I had no choice in my defense\\nSomeone watchin' over us, so shout goes out to—\", metadata={'album': 'More Life', 'title': 'Sacrifices (Ft. 2 Chainz & Young Thug)', 'views': '1100000.0', 'ref_url': 'https://genius.com/Drake-sacrifices-lyrics', 'ref_file': './drake_data.json'})]\n"
     ]
    }
   ],
   "source": [
    "# vector store test\n",
    "print(vector_store.index.ntotal)\n",
    "query = \"Lyrics about humanity\"\n",
    "result = vector_store.similarity_search(query)\n",
    "print(result)"
   ]
  },
  {
   "cell_type": "code",
   "execution_count": 45,
   "metadata": {},
   "outputs": [],
   "source": [
    "# retriever\n",
    "search_config = {\n",
    "    \"k\" : 5,\n",
    "}\n",
    "\n",
    "retriever = vector_store.as_retriever(search_config=search_config)\n",
    "llm = Ollama(model=\"llama3:8b-instruct-q4_K_M\")"
   ]
  },
  {
   "cell_type": "code",
   "execution_count": 49,
   "metadata": {},
   "outputs": [],
   "source": [
    "# RAG\n",
    "\n",
    "from langchain.schema.runnable import RunnablePassthrough\n",
    "from langchain_core.output_parsers import StrOutputParser\n",
    "\n",
    "template = \"\"\"\n",
    "The following information will help you. You can refer to this to answer.\n",
    "{context}\n",
    "\n",
    "Question : {question}\n",
    "Answer :\n",
    "\"\"\"\n",
    "\n",
    "rag_prompt = PromptTemplate.from_template(template)\n",
    "\n",
    "output_parser = StrOutputParser()\n",
    "rag_chain = {\"context\": retriever, \"question\": RunnablePassthrough()} | rag_prompt | llm | output_parser"
   ]
  },
  {
   "cell_type": "code",
   "execution_count": 50,
   "metadata": {},
   "outputs": [
    {
     "data": {
      "text/plain": [
       "'Based on the provided documents, here are the top 5 most famous songs of Drake:\\n\\n1. **\"5 AM in Toronto\"** from the album \"Care Package\" - with 1,400,000 views.\\n2. **\"That\\'s How You Feel\"** (feat. Nicki Minaj and DJ Boof) from the album \"Scorpion\" - with 660,400 views.\\n3. **\"Money in the Grave\"** (feat. Rick Ross) from the album \"The Best in the World Pack\" - with 1,200,000 views.\\n4. **\"Nice For What\"** (feat. Big Freedia and Letitia Wright) from the album \"Scorpion\" - with 2,800,000 views.\\n5. **\"In My Feelings\"** (not included in the provided documents, but it\\'s one of Drake\\'s most famous songs, with over 4 billion views on YouTube).\\n\\nNote that these view counts are based on the provided data and may not reflect the actual popularity or views of these songs at the time of your query.'"
      ]
     },
     "execution_count": 50,
     "metadata": {},
     "output_type": "execute_result"
    }
   ],
   "source": [
    "rag_chain.invoke(\"What are top 5 famous songs of Drake.\")"
   ]
  },
  {
   "cell_type": "code",
   "execution_count": null,
   "metadata": {},
   "outputs": [],
   "source": []
  }
 ],
 "metadata": {
  "kernelspec": {
   "display_name": "venv",
   "language": "python",
   "name": "python3"
  },
  "language_info": {
   "codemirror_mode": {
    "name": "ipython",
    "version": 3
   },
   "file_extension": ".py",
   "mimetype": "text/x-python",
   "name": "python",
   "nbconvert_exporter": "python",
   "pygments_lexer": "ipython3",
   "version": "3.9.13"
  }
 },
 "nbformat": 4,
 "nbformat_minor": 2
}
