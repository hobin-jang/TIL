{
 "cells": [
  {
   "cell_type": "markdown",
   "metadata": {},
   "source": [
    "ref : \n",
    "\n",
    "https://colab.research.google.com/drive/13pmLPBqLsrKqDf7QulwVM03KIHZhZ2MX?usp=sharing%EF%BB%BF\n",
    "\n",
    "https://ollama.com/\n",
    "\n",
    "https://github.com/ggerganov/llama.cpp\n",
    "\n",
    "https://python.langchain.com/docs/get_started/quickstart/"
   ]
  },
  {
   "cell_type": "markdown",
   "metadata": {},
   "source": [
    "rag embedding model이랑 llm reader model 다른 걸로 해보기 + faiss- + llama-cpp 잘 되는 지 테스트\n",
    "\n",
    "필요 라이브러리 설치 \n",
    "\n",
    "`pip install langchain langchainhub tiktoken pypdf faiss-cpu sentence-transformers`"
   ]
  },
  {
   "cell_type": "markdown",
   "metadata": {},
   "source": [
    "langchain 이용해서 pdf 정보 가져오도록 하기 "
   ]
  },
  {
   "cell_type": "code",
   "execution_count": 1,
   "metadata": {},
   "outputs": [],
   "source": [
    "from langchain.document_loaders import PyPDFLoader\n",
    "\n",
    "# PyPDFLoader로 웹에서 pdf 가져오기\n",
    "loader = PyPDFLoader(\"https://snuac.snu.ac.kr/2015_snuac/wp-content/uploads/2015/07/asiabrief_3-26.pdf\")\n",
    "# pdf 페이지 단위로 분리\n",
    "pages = loader.load_and_split()"
   ]
  },
  {
   "cell_type": "code",
   "execution_count": 2,
   "metadata": {},
   "outputs": [
    {
     "data": {
      "text/plain": [
       "Document(page_content='Seoul National University Asia Center1\\n2023년 5월 22일, 3권 26호 (통권 116호)\\n한국의 출산율은 어디가 바닥인가? \\n0.78명! 2022년 대한민국의 합계출산율이다. 인구가 증가나 감소하\\n지 않고 고령화도 되지 않는 이른바 안정인구(Stable Population)를 \\n보유하기 위해서는 합계출산율이 인구대체수준인 2.1명에서 장기적\\n으로 유지되어야 한다. 그런데 1/3 정도만 인구를 대체할 수 있는 출\\n산율이 장기적으로 지속된다면 그만큼 우리나라 인구는 급속하게 감\\n소하고 고령화될 것이다. \\n이와 같은 인구학적 재생산(Reproduction) 붕괴는 저절로 회복되지 \\n않는다. 이론들에 따르면 출산율이 0명에 이를 수도 있다. 대표적으\\n로 이스터린(Easterlin, 1978)의 상대적 소득가설(Relative Income \\nHypothesis)에 의하면, 부부가 충분한 자원을 가지고 있지 못한 경우 출산을 주저하게 되는데, 기대되는 상대적인 소득과 자원에 따라 \\n출산율은 0명까지 감소할 가능성을 배제할 수 없다. 베커의 신가정경\\n제출산력모형(New Home Economics Model of Fertility)에 따르면, \\n자녀에 대한 만족은 자녀의 수가 아닌 자녀의 질을 통해 추구하는데 \\n자녀  양육에는 보다 많은 시간 투입이 요구된다. 인적자본이 중시되\\n는 현대사회에서 개인은 시간가치를 증가시키기 위해 자녀 양육보다 \\n시간이 덜 소요되는 것들을 선호하게 된다. \\n한국 초저출산의 원인구조\\n한국에서 재생산 위기는 ‘결혼’에서부터 시작된다. 한국은 세계 경제 \\n10위권, IT(Information Technology) 강국 등으로 알려져 있지만, \\n<그림 1> 출산율 감소와 신생아 수를 넘어선 고령인구\\n초저출산현상 극복과 인구구조 변화 대응\\n# 이삼식    한양대학교\\n한국의 합계출산율은 2022년 0.78명으로 장기간 초저출산현상 지속은 인구의 지속가능성에 위협이 되고 있다. 저출산 대책은 다양\\n한 복합적인 원인들을 해소할 수 있도록 종합적으로 장기간 일관성 있게 추진되어야 한다. 학령인구 감소, 노동력 부족, 사회보장 부담 \\n증가 등 인구구조 변화에 대한 철저한 대응이 필요하다. 출산율 회복과 인구구조 변화에 대한 적응은 양자택일의 문제가 아니라 동시에 \\n추구하여야 할 사회 목표들인 것이다. Summary Of Article', metadata={'source': 'https://snuac.snu.ac.kr/2015_snuac/wp-content/uploads/2015/07/asiabrief_3-26.pdf', 'page': 0})"
      ]
     },
     "execution_count": 2,
     "metadata": {},
     "output_type": "execute_result"
    }
   ],
   "source": [
    "# 첫 페이지 \n",
    "pages[0]"
   ]
  },
  {
   "cell_type": "code",
   "execution_count": 3,
   "metadata": {},
   "outputs": [],
   "source": [
    "# pdf 내용을 chunk 단위로 분리 \n",
    "from langchain.text_splitter import RecursiveCharacterTextSplitter\n",
    "\n",
    "text_splitter = RecursiveCharacterTextSplitter(chunk_size=500, chunk_overlap=0)\n",
    "splits = text_splitter.split_documents(pages)"
   ]
  },
  {
   "cell_type": "code",
   "execution_count": 4,
   "metadata": {},
   "outputs": [
    {
     "name": "stdout",
     "output_type": "stream",
     "text": [
      "22\n",
      "<class 'list'>\n",
      "[Document(page_content='Seoul National University Asia Center1\\n2023년 5월 22일, 3권 26호 (통권 116호)\\n한국의 출산율은 어디가 바닥인가? \\n0.78명! 2022년 대한민국의 합계출산율이다. 인구가 증가나 감소하\\n지 않고 고령화도 되지 않는 이른바 안정인구(Stable Population)를 \\n보유하기 위해서는 합계출산율이 인구대체수준인 2.1명에서 장기적\\n으로 유지되어야 한다. 그런데 1/3 정도만 인구를 대체할 수 있는 출\\n산율이 장기적으로 지속된다면 그만큼 우리나라 인구는 급속하게 감\\n소하고 고령화될 것이다. \\n이와 같은 인구학적 재생산(Reproduction) 붕괴는 저절로 회복되지 \\n않는다. 이론들에 따르면 출산율이 0명에 이를 수도 있다. 대표적으\\n로 이스터린(Easterlin, 1978)의 상대적 소득가설(Relative Income', metadata={'source': 'https://snuac.snu.ac.kr/2015_snuac/wp-content/uploads/2015/07/asiabrief_3-26.pdf', 'page': 0}), Document(page_content='Hypothesis)에 의하면, 부부가 충분한 자원을 가지고 있지 못한 경우 출산을 주저하게 되는데, 기대되는 상대적인 소득과 자원에 따라 \\n출산율은 0명까지 감소할 가능성을 배제할 수 없다. 베커의 신가정경\\n제출산력모형(New Home Economics Model of Fertility)에 따르면, \\n자녀에 대한 만족은 자녀의 수가 아닌 자녀의 질을 통해 추구하는데 \\n자녀  양육에는 보다 많은 시간 투입이 요구된다. 인적자본이 중시되\\n는 현대사회에서 개인은 시간가치를 증가시키기 위해 자녀 양육보다 \\n시간이 덜 소요되는 것들을 선호하게 된다. \\n한국 초저출산의 원인구조\\n한국에서 재생산 위기는 ‘결혼’에서부터 시작된다. 한국은 세계 경제 \\n10위권, IT(Information Technology) 강국 등으로 알려져 있지만, \\n<그림 1> 출산율 감소와 신생아 수를 넘어선 고령인구\\n초저출산현상 극복과 인구구조 변화 대응\\n# 이삼식    한양대학교', metadata={'source': 'https://snuac.snu.ac.kr/2015_snuac/wp-content/uploads/2015/07/asiabrief_3-26.pdf', 'page': 0}), Document(page_content='한국의 합계출산율은 2022년 0.78명으로 장기간 초저출산현상 지속은 인구의 지속가능성에 위협이 되고 있다. 저출산 대책은 다양\\n한 복합적인 원인들을 해소할 수 있도록 종합적으로 장기간 일관성 있게 추진되어야 한다. 학령인구 감소, 노동력 부족, 사회보장 부담 \\n증가 등 인구구조 변화에 대한 철저한 대응이 필요하다. 출산율 회복과 인구구조 변화에 대한 적응은 양자택일의 문제가 아니라 동시에 \\n추구하여야 할 사회 목표들인 것이다. Summary Of Article', metadata={'source': 'https://snuac.snu.ac.kr/2015_snuac/wp-content/uploads/2015/07/asiabrief_3-26.pdf', 'page': 0}), Document(page_content='세계를 잇다, 미래를 빚다!2전통적인 가부장적 유교문화의 영향이 지속되고 있어 법률에 따르지 \\n않는 가족 형성은 인정되지 않고 있다. 따라서 출산은 법률혼을 전제\\n로 발생한다. 그런데 한국 사회에서 결혼은 각종 조건을 충족시킬 때 \\n가능하다. 학력, 학벌, 안정적 직장, 주거 등이 갖추어져야 결혼을 할 \\n수 있고, 결혼 후에도 안정적인 가족생활이 가능하다. 그만큼 청년들\\n은 ‘출산’에 앞서 ‘결혼’의 어려움을 직면하고 있다. 결혼의 관문을 통\\n과하기 어려워지면서 만혼 경향이 증가하고, 결혼 자체를 기피하는 \\n비혼도 증가하고 있다. \\n과거와 달리 결혼과 출산 간 연계도 점차 약화되고 있다. 결혼이 반\\n드시 출산으로 이어지지 않고 있는 것이다. 딩크족(Double Income \\nNot Kids)과 같이 결혼생활이 자녀 중심에서 부부 중심으로 변화하\\n는 경향도 있지만, 무엇보다도 자녀 양육에 비용이 발생하여 큰 부담\\n으로 인식되고 있기 때문이다. 자녀 양육 비용은 의료·보육·(사)교육', metadata={'source': 'https://snuac.snu.ac.kr/2015_snuac/wp-content/uploads/2015/07/asiabrief_3-26.pdf', 'page': 1}), Document(page_content='등에 관한 서비스를 구매하기 위한 경제적 비용, 돌봄, 일-가정 양립 \\n등을 위한 시간 비용, 출산·양육으로 인한 고용 등에서 기회비용 등\\n을 포함한다. 이러한 미시적인 원인들은 개인 또는 부부가 출산을 결\\n정하는 데 직접적인 영향을 미친다. 출산은 미시적인 원인들 뿐 아니\\n라 거시적인 사회구조에 의해서도 영향을 받는다. 일자리 부족과 고\\n용 불안정, 높은 주거비용, 과도한 교육 경쟁(학력주의와 학벌주의 만\\n연), 양성 불평등, 사회규범 및 가치관의 변화 등이 출산에 영향을 미\\n치는 거시적인 요소들이다. 미시적인 요인들 대부분 거시적 요인들\\n에 의해 영향을 받는다. 예를 들어, 고용에서 학력주의와 학벌주의 만\\n연은 사교육비를 증가시켜 자녀 양육의 경제적 부담을 높이고 있다. 출산율 회복에 성공한 국가로부터의 교훈\\n이와 같이 저출산의 원인들이 명백하게 규명되고 있다는 점에서 저\\n출산은 극복이 가능한 현상으로 간주할 수 있다. 실례로 서구 국가들', metadata={'source': 'https://snuac.snu.ac.kr/2015_snuac/wp-content/uploads/2015/07/asiabrief_3-26.pdf', 'page': 1}), Document(page_content='중 프랑스, 스웨덴, 영국 등은 저출산 현상을 극복한 국가들로 알려져 \\n있다. 우리나라는 15년 이상 저출산 대책이 추진되고 있음에도 불구\\n하고 출산율은 오히려 더 낮아져 최근에는 0명대를 기록하고 있다. \\n저출산 대책은 다양한 복합적인 원인들을 해소할 수 있도록 종합적\\n으로 그리고 장기간에 걸쳐 일관성 있게 추진되어야 한다. 그러나 우\\n리나라 저출산 대책에는 반드시 필요한 정책들이 누락되어 있는 문\\n제, 필요한 정책들이 포함되고 있을지라도 사각지대가 크거나 급여 \\n등이 충분하지 않은 문제들을 가지고 있다. \\n이와 관련, 초저출산현상을 멈추기 위해서는 세 가지의 근본적인 노\\n력이 긴요하다. \\n첫 번째로 과도한 경쟁사회를 지양하기 위하여 노동시장을 개혁하여\\n야 한다. 사실 한국 사회에서 만연하는 저출산 원인들은 다소 차이가 \\n있을지라도 OECD 국가나 동유럽 국가들 일부도 직면하고 있다. 그\\n럼에도 불구하고, 유독 한국 사회에서 합계출산율이 0명대로 치닫고', metadata={'source': 'https://snuac.snu.ac.kr/2015_snuac/wp-content/uploads/2015/07/asiabrief_3-26.pdf', 'page': 1}), Document(page_content='있는 점은 직접적인 저출산 원인들 이외의 요소가 작동하고 있는 것\\n으로 설명할 수 있다. 대표적으로 단기간에 이룩하였던 고도 경제성\\n장의 후유증으로 삶의 목표가 성공이나 물질적인 것을 추구하는 데 \\n집중되었으며, 이를 위해 어린 시절부터 무한 경쟁사회 속에서 살아\\n가면서 여유 없이 쫓기고 있다. 이로 인해 자녀 양육은 무한 경쟁의 \\n연속선상에서 막대한 비용을 들여야 한다는 강박관념 때문에 행복보\\n다는 부담으로 인식되고 있다. 따라서 노동 개혁을 통해 그간 관행으\\n<그림 2> OECD 국가의 합계출산율 추이 \\n출처; OECD (2023). Fertility rates (indicator). doi: 10.1 787/8272fb01-en (Accessed on 09 May 2023) \\n주) 한국은 합계출산율을 2022년까지 발표하였으나, OECD 국가 대부분 2020년까지 발표하였음. 따라서, 2020년 OECD 기준 한국의 합계출산율은 0.84임.', metadata={'source': 'https://snuac.snu.ac.kr/2015_snuac/wp-content/uploads/2015/07/asiabrief_3-26.pdf', 'page': 1}), Document(page_content='Seoul National University Asia Center3로 고착화된 학력, 학벌, 젠더, 출신 지역 등에 따른 불합리한 차별을 \\n불식시키도록 해야 한다. 구체적으로 학력이나 학벌 등을 이유로 한 \\n고용기회나 승진 및 임금 등에서 차별을 없애고, 대신 능력을 우선시\\n하는 원칙이 통용되도록 한다. \\n두 번째로 자녀 양육의 생애주기와 연계된 사회구조 및 관행(문화)\\n을 개선하는 것이다. 주택가격을 안정화하고, 초장기 저리 공공주택\\n의 공급을 늘려 자기 집 마련이 인생의 목표가 되지 않도록 하여야 한\\n다. 노후가 보장되도록 공적보장체계를 강화하여 생애과정에서 자녀 \\n양육과 노후 대비가 충돌하지 않도록 할 필요가 있다. 사회문화 및 규\\n범에 관한 접근도 중요하다. 교육과 경제활동 참여도가 높아진 데다\\n가 고용 불안정, 결혼에 따른 노동시장에서의 차별, 가치관 변화 등\\n으로 인해 결혼이 더욱더 지체되면서 미혼 기간이 길어지고 있다. 이', metadata={'source': 'https://snuac.snu.ac.kr/2015_snuac/wp-content/uploads/2015/07/asiabrief_3-26.pdf', 'page': 2}), Document(page_content='로 인해 동거 등 사실혼적 관계가 증가하고, 이들로부터 출산이 발생\\n하기도 한다. 서구 국가들은 오래전부터 비혼 출산에 대한 사회적 보\\n호를 강화하기 위한 법들을 제정, 시행해오고 있다. 프랑스의 시민연\\n대계약(pacte civil de solidarit é, PACS), 독일의 생활동반자관계법\\n(Lebenspartnerschaftsgesetz), 스웨덴의 삼보법(samboavtal), 네\\n덜란드의 동반자등록(geregistered partnerschap) 등이 대표적이\\n다. 우리나라에서도 동거 커플의 권리와 의무를 규정하는 법령을 제\\n정할 필요가 있다. 이는 동거 커플이 법률혼으로 이행하는 데 긍정적\\n인 역할을 할 뿐 아니라 인공임신중절 예방, 영유아 유기·학대, 아동 \\n빈곤의 세습화 등을 예방하는 데에도 중요하다. \\n세 번째로 미시적인 접근에도 충실해야 한다. 미시적인 접근에는 필', metadata={'source': 'https://snuac.snu.ac.kr/2015_snuac/wp-content/uploads/2015/07/asiabrief_3-26.pdf', 'page': 2}), Document(page_content='요한 정책들을 신규 도입하는 것은 물론 기존 정책들의 수준을 현실화하여야 과제들이 포함된다. 우선 자녀 양육 지원은 대부분 미취학 \\n시기에 집중되어 있다. 임신·출산 의료지원, 출산전후휴가, 육아휴\\n직, 돌봄, 보육 등이 해당된다. 최근 들어 초등학교 저학년까지 돌봄\\n이 확대되고 아동수당이 지급되고 있으나, 이후 양육에 소요되는 비\\n용 등에 대한 지원은 단절된 상태이다. 서구사회에서와 같이 자녀 양\\n육을 아동의 생애주기에 따라 체계적으로 지원하기 위하여 아동수\\n당, 교육수당 등을 16세 또는 18세까지 연장할 필요가 있다. 아동수\\n당도 월 10만 원에서 2~3배를 증액하여 물가 등과 연동하여 현실화\\n할 필요가 있다. \\n현행 일가정양립 지원정책은 사각지대, 충분성 결여, 연계성 부족 등\\n의 문제점들로 인해 효과성을 담보하기 곤란한 실정이다. 즉, 부모의 \\n시간에 대한 지원을 보다 확대할 필요가 있다. 출산전후휴가나 육아\\n휴직을 이용할 수 있는 대상은 공무원이나 고용보험 가입자에 한정', metadata={'source': 'https://snuac.snu.ac.kr/2015_snuac/wp-content/uploads/2015/07/asiabrief_3-26.pdf', 'page': 2}), Document(page_content='된다. 1인 사업자, 특수형태 근로자 및 자유계약자(출산 전 18개월 \\n중 3개월 이상 소득 활동을 한 경우) 등 일정한 고용보험 미적용자에 \\n대해서는 출산 급여(50만 원, 3개월)를 지급하고 있다. 그러나 근본\\n적인 방법으로 근로 방식이나 계약 형태와 관계없이 일하는 모든 부\\n와 모가 육아휴직 등을 이용할 수 있도록 부모보험을 도입할 필요가 \\n있다. 육아휴직 이용 기간을 6개월, 9개월, 12개월, 18개월 등으로 \\n구분하고, 이용 기간에 따라 육아휴직 급여율을 차등적으로 적용하\\n여 이용자가 자신의 상황에 따라 자유로이 선택할 수 있도록 한다. 육\\n아휴직 등 직장 경력의 공백을 전제로 하는 제도들 이외에 일하면서 \\n육아를 할 수 있는 육아기근로시간단축제, 육아재택제도 등을 활성\\n화하여 돌봄 공백과 경력단절의 두려움을 해소해주도록 한다. 이러\\n한 제도들과 어린이집 이용 시간 등 간 연계를 강화하여 시간의 사각\\n<그림 3> 프랑스 합계출산율 추이와 대책 변천', metadata={'source': 'https://snuac.snu.ac.kr/2015_snuac/wp-content/uploads/2015/07/asiabrief_3-26.pdf', 'page': 2}), Document(page_content='세계를 잇다, 미래를 빚다!4지대를 없애도록 한다. 무엇보다도 출산과 양육에 친화적인 직장문\\n화를 조성하여야 한다. \\n인구구조 변화에 대응해야\\n우리나라는 이미 20년 이상 동안 초저출산현상(합계출산율 1.3명 \\n이하)을 겪고 있다. 적어도 당분간 ‘저출산의 덫’에서 빠져나올 수 있\\n을 것으로 기대하기 어렵다. 저출산 대책들이 실효성을 거두기 시작\\n할지라도 언제부터 얼마나 빠른 속도로 어느 수준까지 출산율이 높\\n아질 것으로 예상하기도 어렵다. 결국 우리나라 인구는 급속하게 감\\n소하고, 고령화될 것이다. 따라서 저출산 대책을 더욱 강화하는 동시\\n에 인구감소 및 고령화에 대해서도 철저하게 대응하여야 한다. 인구\\n감소 및 고령화가 사회에 미치는 파장은 크게 학교 붕괴, 병력자원 부\\n족, 노동력 부족, 사회보장 부담 증가 등을 들 수 있다. \\n학령인구 감소에 따른 학생 수 감소는 초등학교, 중학교, 고등학교 및 \\n대학교에까지 영향을 미치고 있다. 과거 고출산 시기에 태어난 세대', metadata={'source': 'https://snuac.snu.ac.kr/2015_snuac/wp-content/uploads/2015/07/asiabrief_3-26.pdf', 'page': 3}), Document(page_content='를 위해 건립하였던 학교 시설과 교사 양성 인프라(교육대학 등)는 과\\n잉 시설이 되면서 통폐합이 진행되고 있다. 폐교는 단순하게 잉여 시\\n설의 처분만을 의미하지 않는다. 폐교로 아동이 있는 가족은 그 지역\\n으로 이주해오지 않을 것이며, 아동들을 상대로 하는 가게나 시설 역\\n시 폐쇄하거나 다른 지역으로 떠날 수밖에 없다. 이와 같이 폐교는 지\\n방소멸을 유발하고 가속화시키는 주요한 요인이 된다. 학생들의 사\\n회성 발달, 교육행정 효율성 등에 불리한 학생희소학교의 문제를 최\\n소화하기 위해 초·중 또는 중·고 통합학교나 학교 간 통합수업을 활\\n성화해야 한다. 지방대학의 경쟁력을 확보하기 위해 교육부의 권한\\n을 지자체에 이양하는 동시에 중앙정부 차원에서 지방대학과 산업 \\n간 연계를 강화하기 위한 투자를 과감하게 늘릴 필요가 있다. 종합대\\n학이 보편적인 대학 체계를 일부 단과대학 중심의 특성화 대학으로 \\n전환하여 학생 수가 적으나 강한 대학들이 지역적으로 균등하게 배\\n치될 필요가 있다.', metadata={'source': 'https://snuac.snu.ac.kr/2015_snuac/wp-content/uploads/2015/07/asiabrief_3-26.pdf', 'page': 3}), Document(page_content='출생아 수 감소는 징병 대상 인구의 감소를 가져와 병력자원 부족을 \\n초래한다. 이에 대응하기 위하여 4차 산업혁명 핵심기술 등을 이용\\n하여 병력 대체용 첨단 무기(전방 감시 등)를 개발하고, 기술병 등 일\\n정한 자원에 대해서는 모병제를 도입하는 이른바 혼합병제를 채택할 \\n필요가 있다. \\n생산가능인구(15~49세)가 감소하여도 베이비붐세대(1955~1974\\n년 출생 인구)가 여전히 노동시장에서 활동하고 있어 당분간 노동력\\n은 공급과잉 상태를 유지할 것이다. 그러나 베이비붐세대 대부분이 노동시장에 이탈하는 2030년대 중반경부터 수요에 비해 노동력 공\\n급이 본격적으로 부족하기 시작할 것이다. 노동인구의 구매력이 노\\n인인구에 비해 상대적으로 높다는 점에서 노동력 부족은 생산 인구 \\n부족뿐 아니라 소비 인구 부족 즉, 내수 위축으로도 이어져 경제성장\\n을 둔화시킬 것이다. 노동력 부족에 대응하기 위해서는 근본적으로 \\n출산율 회복이 필수적이다. 다른 한편으로 잠재 인력의 활용을 극대', metadata={'source': 'https://snuac.snu.ac.kr/2015_snuac/wp-content/uploads/2015/07/asiabrief_3-26.pdf', 'page': 3}), Document(page_content='화할 필요가 있다. 50%대에 머물고 있는 여성 고용률을 스웨덴 등 \\n선진국의 수준(70~80%대)으로 높이도록 한다. 이를 위해서는 노동\\n시장에서의 젠더 차별 불식, 일가정양립 환경 조성 등이 선결되어야 \\n할 것이다. 고령화가 빠르게 진행되고 있으나 고령인구의 학력과 직\\n업력이 높아지고 건강이 개선되고 있다는 점에서 정년 연장 내지 폐\\n지를 통해 고령인구가 보다 오랫동안 노동시장에 남아서 역할을 하\\n도록 한다. 외국인 노동력 유입도 노동력 부족에 대처하기 위한 중요\\n한 전략이 될 수 있다. 이미 중소기업, 농업 등에서는 내국인의 3D 업\\n종 기피 등으로 인하여 노동력이 부족하며, 이러한 빈자리를 단기 외\\n국인 노동자로 해소하고 있다. 미래에는 단기 외국인 노동자들도 확\\n보하기 어려울 수 있다. 동남아 국가 등도 이미 저출산과 고령화가 시\\n작되어 장기적으로 우리나라에 자국의 노동자들을 보낼 수 있는 여\\n력이 없어질 것이기 때문이다. 일부에서는 영주 목적의 장기 이민자', metadata={'source': 'https://snuac.snu.ac.kr/2015_snuac/wp-content/uploads/2015/07/asiabrief_3-26.pdf', 'page': 3}), Document(page_content='의 유입이 필요하다는 주장이 제기되기도 한다. 최근의 초저출산현\\n상이 장기적으로 지속된다면 여성인력이나 고령인력만으로 필요 인\\n력 내지 안정적인 인구구조를 유지하기 어려울 것이기 때문에 일면 \\n타당하다고 할 수 있다. 그러나 미래로 갈수록 노동집약적 산업 중심\\n에서 지식기반 산업 중심으로 산업구조가 변화할 것이라는 사실이\\n다. 이민자들도 한국 사회의 저출산현상에 편승하고 자신들은 고령\\n화된다면 오히려 인구구조에 부정적인 영향을 미친다는 점이다. 그\\n리고 사회통합 비용이 높을 수 있다는 점에서 인구감소 및 고령화에\\n의 대응을 목적으로 하는 장기 이민자 유입에 대해서는 신중할 필요\\n가 있다. 서구의 많은 연구들은 인구 고령화에 대응하기 위한 이민정\\n책은 실효성이 높지 않음을 지적해왔다. 실제 서구 국가들은 제조업 \\n중심의 외국인 노동력 유입을 억제하고, 우수 인력 중심으로 이민을 \\n선별적으로 허용하고 있다. \\n생산가능인구는 감소하나 이들이 부양해야 할 노인인구는 급격하게', metadata={'source': 'https://snuac.snu.ac.kr/2015_snuac/wp-content/uploads/2015/07/asiabrief_3-26.pdf', 'page': 3}), Document(page_content='증가하여 사회보장 부담이 크게 높아질 것이다. 대표적으로 노인인\\n구 증가로 연금 수령 인구는 증가하나 연금보험료를 납부할 인구는 \\n줄어들어 장기적으로 연금기금은 고갈될 것이다. 건강보험이나 장기\\n요양보험 역시 보험료 이용자는 증가하나 납부자는 감소하여 보험재\\n정의 지속가능성이 약화될 것이다. 이러한 문제를 극복하기 위하여 \\n보험료율과 소득대체율 등을 조정하여야 하나, 보다 근본적인 방법', metadata={'source': 'https://snuac.snu.ac.kr/2015_snuac/wp-content/uploads/2015/07/asiabrief_3-26.pdf', 'page': 3}), Document(page_content='Seoul National University Asia Center5발행처: 서울대학교 아시아연구소, HK+메가아시아연구사업단     \\n발행인: 박수진  편집위원장: 박수진  편집위원: 이명무, 김윤호    \\n편집간사: 김정희  편집조교: 박효진, 전민규, 민보미, 최태수, 김용재  디자인: 박종홍\\n연락처: 02-880-2087, snuac.issuebrief@gmail.com   아시아 브리프의 목표\\n· 아시아의 현안 분석과 정책적 함의 제시         \\n· 한국의 아시아 진출 전략 개발         \\n· 메가 아시아 건설을 위한 공론장Tag: 초저출산,미시적접근,사회구조,고령화,인구구조최신 관련 자료\\n ·이삼식 외 (2021). “저출산·고령사회의 효율적 대응을 위한 추진체계 구축방안.” 대통령직속 저출산고령사회위원회. 한양대학교 고령사회연\\n구원. \\n ·이삼식 외 (2020). “저출산에 따른 재정부담 분석 및 대응.” 기획재정부. 한양대학교 고령사회연구원.', metadata={'source': 'https://snuac.snu.ac.kr/2015_snuac/wp-content/uploads/2015/07/asiabrief_3-26.pdf', 'page': 4}), Document(page_content=\"·이삼식 (2020). “한국 인구정책 변천과 시대적 함의.” 기획재정부. KDI 글로벌지식협력단지.\\n ·이삼식 외 (2018). “대한민국 중장기 인구정책 방향.” 보건복지부. 한양대학교 고령사회연구원.\\n ·이태훈 (2019). “프랑스 출산율 상승에 긍정적인 영향을 미친 가족정책.” 『국제노동브리프』 12월호, 한국노동연구원.\\n이삼식 (lss2323@hanyang.ac.kr)\\n현) 한양대학교 고령사회연구원 원장, 인구보건복지협회 회장, 국회 저출생 및 인구절벽대응 포럼 자문위원. \\n전) 한국보건사회연구원 저출산고령화대책기획단 단장, 대통령직속 저출산고령사회위원회 정책운영위원회 위원(세대공감분과 \\n      위원장), 한국인구학회 회장.\\n주요 논문과 저서: “Working Conditions Affecting Home Care Workers' Stress and Turnover Intention.”\", metadata={'source': 'https://snuac.snu.ac.kr/2015_snuac/wp-content/uploads/2015/07/asiabrief_3-26.pdf', 'page': 4}), Document(page_content=\"Journal of Applied Gerontology  42(4), 2023.\\n  “Impact of older adults' mobility and social participation on life satisfaction in South Korea.”  \\n  Asian Social Work and Policy Review , 2019.\\n  “The National Reproductive Crisis: South Korea’s Fertility Shock.” Korea Journal of Sociology  49(3), 2015.\\n  Issues of Aging and Age Dependency in Post-industrial Societies. Low Fertility Regimes and   \\n  Demographic and Societal Change . Springer International Publishing, 2018.\", metadata={'source': 'https://snuac.snu.ac.kr/2015_snuac/wp-content/uploads/2015/07/asiabrief_3-26.pdf', 'page': 4}), Document(page_content='Lowest-low fertility and policy responses in South Korea. Low and lower fertility: Variations across  \\n  developed countries . Springer International Publishing, 2015.으로 인구고령화 수준이 30% 등 일정 수준을 넘지 않도록 출산율을 \\n회복하는 노력이 중요하다. 이와 동시에 정년 연장을 통해 적어도 60\\n대 인구가 연금, 건강보험 등 사회보장의 수급자적 위치에서 납부자\\n적 위치로 전환할 필요가 있다.\\n출산율 회복과 인구구조 변화 대응은 양자택일이 \\n아닌 양자병행 과제\\n최근 한국 사회에서 출산율이 0명대로 급락하면서 출산율 회복에 대\\n한 회의감이 증가하고 있다. 그 영향으로 출산율 회복을 위한 의지와 노력이 약화되고 대신 인구감소 및 고령화에 적응하여야 한다는 논\\n의가 활발하다. 그러나 출산율 회복 없는 인구변화에 대한 대응은 높', metadata={'source': 'https://snuac.snu.ac.kr/2015_snuac/wp-content/uploads/2015/07/asiabrief_3-26.pdf', 'page': 4}), Document(page_content='은 비용과 고통을 수반할 것이다. 그렇다고 출산율이 단기간 내 급격\\n하게 회복할 수 없다는 점에서 인구변화에 대한 적응을 소홀히 할 수 \\n없다. 결국 출산율 회복과 인구변화에 대한 적응은 양자택일의 문제\\n가 아니라 동시에 추구하여야 할 사회 목표들인 것이다. 출산율 회복\\n은 인구변화 적응 비용을 줄이며, 인구변화에 대한 성공적인 적응(예\\n를 들어, 노후 보장 등)은 출산율 회복에 긍정적인 역할을 하는 시너\\n지 효과가 날 것이다.', metadata={'source': 'https://snuac.snu.ac.kr/2015_snuac/wp-content/uploads/2015/07/asiabrief_3-26.pdf', 'page': 4})]\n"
     ]
    }
   ],
   "source": [
    "print(len(splits))\n",
    "print(type(splits))\n",
    "print(splits)"
   ]
  },
  {
   "cell_type": "markdown",
   "metadata": {},
   "source": [
    "embedding model 이랑 reader model 다른 걸로 두고 테스트\n",
    "\n",
    "embedding model : thenlper/gte-small\n",
    "\n",
    "reader model : llama 3 (with llama cpp)\n"
   ]
  },
  {
   "cell_type": "code",
   "execution_count": 5,
   "metadata": {},
   "outputs": [
    {
     "name": "stderr",
     "output_type": "stream",
     "text": [
      "c:\\Users\\ghqls\\Desktop\\Github\\TIL\\2024\\LLM\\RAG_Langchain\\venv\\lib\\site-packages\\tqdm\\auto.py:21: TqdmWarning: IProgress not found. Please update jupyter and ipywidgets. See https://ipywidgets.readthedocs.io/en/stable/user_install.html\n",
      "  from .autonotebook import tqdm as notebook_tqdm\n",
      "c:\\Users\\ghqls\\Desktop\\Github\\TIL\\2024\\LLM\\RAG_Langchain\\venv\\lib\\site-packages\\huggingface_hub\\file_download.py:1132: FutureWarning: `resume_download` is deprecated and will be removed in version 1.0.0. Downloads always resume when possible. If you want to force a new download, use `force_download=True`.\n",
      "  warnings.warn(\n",
      "c:\\Users\\ghqls\\Desktop\\Github\\TIL\\2024\\LLM\\RAG_Langchain\\venv\\lib\\site-packages\\huggingface_hub\\file_download.py:1132: FutureWarning: `resume_download` is deprecated and will be removed in version 1.0.0. Downloads always resume when possible. If you want to force a new download, use `force_download=True`.\n",
      "  warnings.warn(\n"
     ]
    }
   ],
   "source": [
    "# chunk된 내용을 embedding 후 chroma db (vector db)에 저장 \n",
    "# embedding model을 좀 작은 걸로 변경\n",
    "from langchain.vectorstores import FAISS\n",
    "from langchain.vectorstores.utils import DistanceStrategy\n",
    "from langchain.embeddings import HuggingFaceEmbeddings\n",
    "\n",
    "EMBEDDING_MODEL_NAME = \"thenlper/gte-small\"\n",
    "embedding_model = HuggingFaceEmbeddings(\n",
    "    model_name = EMBEDDING_MODEL_NAME,\n",
    "    model_kwargs = {\"device\" : \"cpu\"},\n",
    "    encode_kwargs = {\"normalize_embeddings\" : True}, # true : for cosine similarity\n",
    ")"
   ]
  },
  {
   "cell_type": "code",
   "execution_count": 6,
   "metadata": {},
   "outputs": [
    {
     "name": "stdout",
     "output_type": "stream",
     "text": [
      "[-0.059195376932621, -0.011080374009907246, 0.03306877240538597, -0.017652055248618126, -0.0015480518341064453, 0.0024059682618826628, 0.07614551484584808, 0.03879786655306816, -0.02447921223938465, -0.037845030426979065, 0.01586783491075039, -0.07212086766958237, 0.03456271439790726, 0.047271233052015305, -0.027833696454763412, -0.016473330557346344, 0.031021401286125183, -0.003000564407557249, -0.07392190396785736, 0.05530444532632828, 0.06552287191152573, 0.04276362806558609, -0.034464817494153976, -0.06643229722976685, 0.027347655966877937, 0.05002980679273605, 0.0009594766306690872, -0.05126452445983887, -0.04410269111394882, -0.19853536784648895, 0.010763322934508324, -0.07957075536251068, 0.03682335466146469, -0.03477984294295311, -0.0052369083277881145, -0.03484277427196503, -0.02237815037369728, 0.0022788229398429394, -0.053265903145074844, 0.03324726223945618, 0.03359426185488701, 0.025620082393288612, -0.027100130915641785, -0.03499066084623337, -0.03932352736592293, -0.04521763324737549, -0.025384077802300453, -0.030599894002079964, 0.024669023230671883, -0.0038764416240155697, 0.008240372873842716, -0.049476541578769684, 0.011351849883794785, -0.02182753197848797, 0.0035329554229974747, 0.04052941873669624, 0.043777793645858765, 0.03955520689487457, 0.04423706978559494, 0.03648466616868973, 0.056117817759513855, 0.01847507245838642, -0.2348221242427826, 0.08305282890796661, 0.040410105139017105, 0.03626140579581261, -0.0004048710979986936, -0.03569520264863968, 0.031096201390028, 0.07453438639640808, -0.03273479640483856, 0.04260515421628952, 0.01368851400911808, 0.06544364988803864, 0.03548284247517586, 0.009499709121882915, -0.01105646975338459, -0.07935398817062378, 0.0424102358520031, 0.04267111048102379, 0.0073002176359295845, -0.07148561626672745, -0.007369102444499731, 0.014825442805886269, -0.02308437041938305, 0.0076047745533287525, -0.01903717778623104, -0.02760051004588604, 0.011905214749276638, 0.021103275939822197, -0.019692813977599144, -0.024175573140382767, -0.027092207223176956, 0.009043884463608265, -0.07501454651355743, -0.03238487243652344, 0.0024270270951092243, 0.038666825741529465, -0.05138473957777023, 0.2509881854057312, -0.06850918382406235, 0.0169835202395916, 0.049875903874635696, -0.043486107140779495, 0.026471102610230446, 0.01144503802061081, -0.025325115770101547, -0.010700253769755363, -0.02657531015574932, -0.006969027686864138, 0.0507049486041069, -0.01328711211681366, 0.05818624049425125, -0.0375332273542881, -0.026883218437433243, 0.011989470571279526, 0.03103875368833542, 0.022502301260828972, -0.03664907440543175, 0.009945360012352467, -0.01578858122229576, 0.030440406873822212, 0.01552573312073946, -0.05392797291278839, 0.048577241599559784, -0.1112259104847908, 0.03362983092665672, 0.10916893184185028, 0.015700239688158035, 0.06077836826443672, 0.04003295302391052, -0.07998467236757278, -0.054830003529787064, -0.01381665002554655, -0.05167943984270096, 0.011774174869060516, -0.007884394377470016, 0.03203899785876274, 0.029508644714951515, -0.03663410618901253, -0.05686802789568901, -0.1303381472826004, -0.008411656133830547, -0.10759919881820679, -0.04816606268286705, 0.020456111058592796, -0.06643924117088318, 0.009857609868049622, -0.04760563373565674, 0.005033806897699833, 0.01370624266564846, 0.008096860721707344, -0.017961585894227028, -0.0312943235039711, 0.018470095470547676, -0.002418973483145237, 0.014583231881260872, 0.058262914419174194, -0.005518075078725815, 0.01628408581018448, -0.04161445423960686, -0.02362213470041752, -0.060782913118600845, 0.07062043249607086, -0.00246498454362154, -0.08170554041862488, -0.04929724708199501, 0.037367865443229675, 0.013639740645885468, -0.039376597851514816, 0.02308526076376438, 0.02275726944208145, -0.08735505491495132, -0.002672535367310047, 0.03454370051622391, 0.007620096672326326, 0.00252226903103292, 0.022753378376364708, 0.010514795780181885, 0.003992475103586912, 0.043455738574266434, -0.005786751862615347, -0.029335688799619675, 0.02242639847099781, 0.04204884171485901, -0.05712931230664253, -0.027576489374041557, -0.06016753613948822, 0.0591309517621994, 0.00540498923510313, 0.007998025976121426, -0.002666042884811759, -0.09318063408136368, -0.015586752444505692, -0.021018708124756813, -0.04395538568496704, -0.004474984016269445, -0.021694881841540337, -0.013913367874920368, -0.025730812922120094, 0.05367938429117203, -0.006857247557491064, 0.006104552187025547, 0.027621757239103317, 0.021751875057816505, 0.05325509235262871, 0.03871279954910278, -0.05437339097261429, 0.01975344866514206, 0.04867027327418327, -0.023012375459074974, -0.004951914772391319, 0.11716114729642868, -0.0012369975447654724, -0.015555059537291527, -0.047011636197566986, -0.006743596401065588, 0.0055679515935480595, 0.0479329489171505, 0.09965603053569794, -0.0021693811286240816, -0.06859830021858215, -0.004579117987304926, -0.2207818329334259, 0.011438642628490925, 0.03481598570942879, 0.00434219092130661, 0.10598139464855194, -0.012189378030598164, 0.03791116178035736, -0.015295549295842648, 0.06874368339776993, 0.018494008108973503, 0.04173116013407707, 0.006441561039537191, -0.01575990952551365, -0.00705087510868907, 0.015145561657845974, 0.040222495794296265, -0.0032551558688282967, 0.01398919615894556, 0.022397857159376144, 0.004026230424642563, -0.023371662944555283, 0.008022705093026161, -0.022557798773050308, -0.02505853772163391, 0.06476520746946335, -0.05785711109638214, 0.16299571096897125, 0.09467516839504242, 0.02014576457440853, -0.0019150858279317617, 0.03877431899309158, 0.02598719112575054, -0.01400310080498457, -0.0949564203619957, 0.05683799088001251, 0.021540110930800438, -0.0009842889849096537, 0.029605338349938393, -0.007859760895371437, -0.054412707686424255, -0.018999597057700157, 0.03382652625441551, 0.015178801491856575, -0.07680408656597137, 0.005029341205954552, -0.06862223148345947, -0.022308997809886932, 0.003620315808802843, -0.04550398141145706, 0.01217392086982727, 0.04063602536916733, -0.0519772507250309, 0.023313218727707863, 0.026829473674297333, -0.005061544943600893, -0.03893548250198364, -0.09389647841453552, 0.0201768446713686, -0.01376073993742466, -0.02571205422282219, 0.023556487634778023, -0.024428244680166245, 0.02549098990857601, -0.01537329237908125, 0.046772874891757965, 0.018787067383527756, -0.022297166287899017, -0.034392666071653366, 0.04256097972393036, -0.04860526695847511, 0.013899621553719044, 0.031213289126753807, 0.04609251022338867, -0.01751936599612236, 0.0736532136797905, 0.0002954793453682214, 0.01919359154999256, -0.0816161185503006, -0.019695060327649117, -0.0473780520260334, 0.058974739164114, -0.005662060342729092, 0.024418499320745468, 0.03235718235373497, 0.021831074729561806, 0.03202693909406662, 0.042071547359228134, 0.03944733366370201, 0.07467376440763474, -0.0462656207382679, 0.008456842042505741, 0.03400290757417679, 0.01333492249250412, -0.060994766652584076, 0.028604811057448387, -0.01503494381904602, -0.2658134996891022, 0.04164406284689903, 0.015335419215261936, 0.040915943682193756, -0.05274590104818344, 0.023205073550343513, 0.03003438375890255, -0.0011013859184458852, -0.057840246707201004, 0.015637680888175964, 0.02871190756559372, 0.029436025768518448, 0.03876164183020592, -0.027806546539068222, 0.01582978293299675, 0.04467543214559555, 0.055828724056482315, -0.062278226017951965, 0.05978633463382721, -0.08007117360830307, 0.03715141862630844, 0.040161196142435074, 0.24316783249378204, -0.038394343107938766, 0.039794765412807465, 0.036648228764534, 0.0025792245287448168, 0.008956516161561012, 0.07555258274078369, -0.012953759171068668, 0.04186614975333214, 0.036631934344768524, 0.056419890373945236, -0.079305499792099, 0.018199780955910683, -0.00784891564399004, -0.051659923046827316, 0.040844906121492386, 0.008657543919980526, -0.04199882969260216, 0.01510649360716343, -0.01081185881048441, -0.07448803633451462, -0.0058311643078923225, 0.08795260637998581, 0.021272927522659302, -0.02224097028374672, -0.03539910539984703, -0.041668519377708435, 0.04086405411362648, -0.0281678419560194, -0.010211601853370667, -0.010102353058755398, 0.00415859604254365, 0.04497886449098587, 0.034851085394620895, -0.01451100967824459, -0.05385226383805275, -0.0073439693078398705, -0.04774010181427002, 0.0019426958169788122, -0.06813348829746246, -0.015300554223358631, 0.06093771755695343, 0.042671624571084976]\n",
      "384\n"
     ]
    }
   ],
   "source": [
    "# embedding 되는 지 확인\n",
    "\n",
    "test_string = \"test string !!!\"\n",
    "test_embedded = embedding_model.embed_query(test_string)\n",
    "\n",
    "print(test_embedded)\n",
    "print(len(test_embedded))"
   ]
  },
  {
   "cell_type": "code",
   "execution_count": 7,
   "metadata": {},
   "outputs": [],
   "source": [
    "# llm model에 맞는 embedding 기법으로 document를 embedding 후 vector db에 저장 \n",
    "\n",
    "vectorstore = FAISS.from_documents(documents=splits, embedding=embedding_model, distance_strategy=DistanceStrategy.COSINE)\n"
   ]
  },
  {
   "cell_type": "code",
   "execution_count": 8,
   "metadata": {},
   "outputs": [],
   "source": [
    "# vector db를 검색 대상으로 사용 \n",
    "retriever = vectorstore.as_retriever()"
   ]
  },
  {
   "cell_type": "code",
   "execution_count": 9,
   "metadata": {},
   "outputs": [],
   "source": [
    "# 템플릿 지정 \n",
    "from langchain.prompts import PromptTemplate \n",
    "\n",
    "template = \"\"\"\n",
    "You are Korean. All questions will be conducted in Korean, and you must answer in Korean as well. If you do not understand a question, you must respond that you did not understand it.\n",
    "The following information will help you. You can refer to this to answer.\n",
    "{context}\n",
    "\n",
    "Question : {question}\n",
    "Answer :\n",
    "\"\"\"\n",
    "\n",
    "rag_prompt = PromptTemplate.from_template(template)"
   ]
  },
  {
   "cell_type": "code",
   "execution_count": 14,
   "metadata": {},
   "outputs": [
    {
     "name": "stderr",
     "output_type": "stream",
     "text": [
      "llama_model_loader: loaded meta data with 22 key-value pairs and 291 tensors from ../Meta-Llama-3-8B-Instruct.Q4_1.gguf (version GGUF V3 (latest))\n",
      "llama_model_loader: Dumping metadata keys/values. Note: KV overrides do not apply in this output.\n",
      "llama_model_loader: - kv   0:                       general.architecture str              = llama\n",
      "llama_model_loader: - kv   1:                               general.name str              = .\n",
      "llama_model_loader: - kv   2:                           llama.vocab_size u32              = 128256\n",
      "llama_model_loader: - kv   3:                       llama.context_length u32              = 8192\n",
      "llama_model_loader: - kv   4:                     llama.embedding_length u32              = 4096\n",
      "llama_model_loader: - kv   5:                          llama.block_count u32              = 32\n",
      "llama_model_loader: - kv   6:                  llama.feed_forward_length u32              = 14336\n",
      "llama_model_loader: - kv   7:                 llama.rope.dimension_count u32              = 128\n",
      "llama_model_loader: - kv   8:                 llama.attention.head_count u32              = 32\n",
      "llama_model_loader: - kv   9:              llama.attention.head_count_kv u32              = 8\n",
      "llama_model_loader: - kv  10:     llama.attention.layer_norm_rms_epsilon f32              = 0.000010\n",
      "llama_model_loader: - kv  11:                       llama.rope.freq_base f32              = 500000.000000\n",
      "llama_model_loader: - kv  12:                          general.file_type u32              = 3\n",
      "llama_model_loader: - kv  13:                       tokenizer.ggml.model str              = gpt2\n",
      "llama_model_loader: - kv  14:                      tokenizer.ggml.tokens arr[str,128256]  = [\"!\", \"\\\"\", \"#\", \"$\", \"%\", \"&\", \"'\", ...\n",
      "llama_model_loader: - kv  15:                      tokenizer.ggml.scores arr[f32,128256]  = [0.000000, 0.000000, 0.000000, 0.0000...\n",
      "llama_model_loader: - kv  16:                  tokenizer.ggml.token_type arr[i32,128256]  = [1, 1, 1, 1, 1, 1, 1, 1, 1, 1, 1, 1, ...\n",
      "llama_model_loader: - kv  17:                      tokenizer.ggml.merges arr[str,280147]  = [\"Ġ Ġ\", \"Ġ ĠĠĠ\", \"ĠĠ ĠĠ\", \"...\n",
      "llama_model_loader: - kv  18:                tokenizer.ggml.bos_token_id u32              = 128000\n",
      "llama_model_loader: - kv  19:                tokenizer.ggml.eos_token_id u32              = 128009\n",
      "llama_model_loader: - kv  20:                    tokenizer.chat_template str              = {% set loop_messages = messages %}{% ...\n",
      "llama_model_loader: - kv  21:               general.quantization_version u32              = 2\n",
      "llama_model_loader: - type  f32:   65 tensors\n",
      "llama_model_loader: - type q4_1:  225 tensors\n",
      "llama_model_loader: - type q6_K:    1 tensors\n",
      "llm_load_vocab: missing pre-tokenizer type, using: 'default'\n",
      "llm_load_vocab:                                             \n",
      "llm_load_vocab: ************************************        \n",
      "llm_load_vocab: GENERATION QUALITY WILL BE DEGRADED!        \n",
      "llm_load_vocab: CONSIDER REGENERATING THE MODEL             \n",
      "llm_load_vocab: ************************************        \n",
      "llm_load_vocab:                                             \n",
      "llm_load_vocab: special tokens definition check successful ( 256/128256 ).\n",
      "llm_load_print_meta: format           = GGUF V3 (latest)\n",
      "llm_load_print_meta: arch             = llama\n",
      "llm_load_print_meta: vocab type       = BPE\n",
      "llm_load_print_meta: n_vocab          = 128256\n",
      "llm_load_print_meta: n_merges         = 280147\n",
      "llm_load_print_meta: n_ctx_train      = 8192\n",
      "llm_load_print_meta: n_embd           = 4096\n",
      "llm_load_print_meta: n_head           = 32\n",
      "llm_load_print_meta: n_head_kv        = 8\n",
      "llm_load_print_meta: n_layer          = 32\n",
      "llm_load_print_meta: n_rot            = 128\n",
      "llm_load_print_meta: n_embd_head_k    = 128\n",
      "llm_load_print_meta: n_embd_head_v    = 128\n",
      "llm_load_print_meta: n_gqa            = 4\n",
      "llm_load_print_meta: n_embd_k_gqa     = 1024\n",
      "llm_load_print_meta: n_embd_v_gqa     = 1024\n",
      "llm_load_print_meta: f_norm_eps       = 0.0e+00\n",
      "llm_load_print_meta: f_norm_rms_eps   = 1.0e-05\n",
      "llm_load_print_meta: f_clamp_kqv      = 0.0e+00\n",
      "llm_load_print_meta: f_max_alibi_bias = 0.0e+00\n",
      "llm_load_print_meta: f_logit_scale    = 0.0e+00\n",
      "llm_load_print_meta: n_ff             = 14336\n",
      "llm_load_print_meta: n_expert         = 0\n",
      "llm_load_print_meta: n_expert_used    = 0\n",
      "llm_load_print_meta: causal attn      = 1\n",
      "llm_load_print_meta: pooling type     = 0\n",
      "llm_load_print_meta: rope type        = 0\n",
      "llm_load_print_meta: rope scaling     = linear\n",
      "llm_load_print_meta: freq_base_train  = 500000.0\n",
      "llm_load_print_meta: freq_scale_train = 1\n",
      "llm_load_print_meta: n_yarn_orig_ctx  = 8192\n",
      "llm_load_print_meta: rope_finetuned   = unknown\n",
      "llm_load_print_meta: ssm_d_conv       = 0\n",
      "llm_load_print_meta: ssm_d_inner      = 0\n",
      "llm_load_print_meta: ssm_d_state      = 0\n",
      "llm_load_print_meta: ssm_dt_rank      = 0\n",
      "llm_load_print_meta: model type       = 8B\n",
      "llm_load_print_meta: model ftype      = Q4_1\n",
      "llm_load_print_meta: model params     = 8.03 B\n",
      "llm_load_print_meta: model size       = 4.77 GiB (5.10 BPW) \n",
      "llm_load_print_meta: general.name     = .\n",
      "llm_load_print_meta: BOS token        = 128000 '<|begin_of_text|>'\n",
      "llm_load_print_meta: EOS token        = 128009 '<|eot_id|>'\n",
      "llm_load_print_meta: LF token         = 128 'Ä'\n",
      "llm_load_print_meta: EOT token        = 128009 '<|eot_id|>'\n",
      "llm_load_tensors: ggml ctx size =    0.15 MiB\n",
      "llm_load_tensors:        CPU buffer size =  4885.12 MiB\n",
      "........................................................................................\n",
      "llama_new_context_with_model: n_batch is less than GGML_KQ_MASK_PAD - increasing to 32\n",
      "llama_new_context_with_model: n_ctx      = 2048\n",
      "llama_new_context_with_model: n_batch    = 32\n",
      "llama_new_context_with_model: n_ubatch   = 32\n",
      "llama_new_context_with_model: flash_attn = 0\n",
      "llama_new_context_with_model: freq_base  = 10000.0\n",
      "llama_new_context_with_model: freq_scale = 1\n",
      "llama_kv_cache_init:        CPU KV buffer size =   256.00 MiB\n",
      "llama_new_context_with_model: KV self size  =  256.00 MiB, K (f16):  128.00 MiB, V (f16):  128.00 MiB\n",
      "llama_new_context_with_model:        CPU  output buffer size =     0.49 MiB\n",
      "llama_new_context_with_model:        CPU compute buffer size =    16.16 MiB\n",
      "llama_new_context_with_model: graph nodes  = 1030\n",
      "llama_new_context_with_model: graph splits = 1\n",
      "AVX = 1 | AVX_VNNI = 0 | AVX2 = 1 | AVX512 = 1 | AVX512_VBMI = 0 | AVX512_VNNI = 0 | FMA = 1 | NEON = 0 | ARM_FMA = 0 | F16C = 1 | FP16_VA = 0 | WASM_SIMD = 0 | BLAS = 0 | SSE3 = 1 | SSSE3 = 0 | VSX = 0 | MATMUL_INT8 = 0 | LLAMAFILE = 1 | \n",
      "Model metadata: {'general.name': '.', 'general.architecture': 'llama', 'llama.block_count': '32', 'llama.vocab_size': '128256', 'llama.context_length': '8192', 'llama.rope.dimension_count': '128', 'llama.embedding_length': '4096', 'llama.feed_forward_length': '14336', 'llama.attention.head_count': '32', 'tokenizer.ggml.eos_token_id': '128009', 'general.file_type': '3', 'llama.attention.head_count_kv': '8', 'llama.attention.layer_norm_rms_epsilon': '0.000010', 'llama.rope.freq_base': '500000.000000', 'tokenizer.ggml.model': 'gpt2', 'general.quantization_version': '2', 'tokenizer.ggml.bos_token_id': '128000', 'tokenizer.chat_template': \"{% set loop_messages = messages %}{% for message in loop_messages %}{% set content = '<|start_header_id|>' + message['role'] + '<|end_header_id|>\\n\\n'+ message['content'] | trim + '<|eot_id|>' %}{% if loop.index0 == 0 %}{% set content = bos_token + content %}{% endif %}{{ content }}{% endfor %}{{ '<|start_header_id|>assistant<|end_header_id|>\\n\\n' }}\"}\n",
      "Using gguf chat template: {% set loop_messages = messages %}{% for message in loop_messages %}{% set content = '<|start_header_id|>' + message['role'] + '<|end_header_id|>\n",
      "\n",
      "'+ message['content'] | trim + '<|eot_id|>' %}{% if loop.index0 == 0 %}{% set content = bos_token + content %}{% endif %}{{ content }}{% endfor %}{{ '<|start_header_id|>assistant<|end_header_id|>\n",
      "\n",
      "' }}\n",
      "Using chat eos_token: <|eot_id|>\n",
      "Using chat bos_token: <|begin_of_text|>\n"
     ]
    }
   ],
   "source": [
    "# llama 3 적용 \n",
    "from langchain.callbacks.manager import CallbackManager\n",
    "from langchain.callbacks.streaming_stdout import StreamingStdOutCallbackHandler\n",
    "from langchain_community.llms import LlamaCpp\n",
    "\n",
    "callback_manager = CallbackManager([StreamingStdOutCallbackHandler()])\n",
    "\n",
    "llm = LlamaCpp(\n",
    "    model_path=\"../Meta-Llama-3-8B-Instruct.Q4_1.gguf\",\n",
    "    temperature=0.1,\n",
    "    max_tokens=2000,\n",
    "    n_ctx = 2048,\n",
    "    top_p = 1,\n",
    "    callback_manager=callback_manager,\n",
    "    verbose=True,\n",
    ")"
   ]
  },
  {
   "cell_type": "code",
   "execution_count": 21,
   "metadata": {},
   "outputs": [],
   "source": [
    "# prompt template 적용한 체인 설정\n",
    "from langchain.schema.runnable import RunnablePassthrough\n",
    "from langchain_core.output_parsers import StrOutputParser\n",
    "\n",
    "output_parser = StrOutputParser()\n",
    "rag_chain = {\"context\": retriever, \"question\": RunnablePassthrough()} | rag_prompt | llm | output_parser"
   ]
  },
  {
   "cell_type": "code",
   "execution_count": null,
   "metadata": {},
   "outputs": [],
   "source": [
    "# 음... embedding model 이랑 서로 다른 걸로 하니 너무 느리군....\n",
    "\n",
    "Question = \"한국의 출산율 문제의 심각성은 어느 정도인가?\"\n",
    "rag_chain.invoke(Question)"
   ]
  }
 ],
 "metadata": {
  "kernelspec": {
   "display_name": "venv",
   "language": "python",
   "name": "python3"
  },
  "language_info": {
   "codemirror_mode": {
    "name": "ipython",
    "version": 3
   },
   "file_extension": ".py",
   "mimetype": "text/x-python",
   "name": "python",
   "nbconvert_exporter": "python",
   "pygments_lexer": "ipython3",
   "version": "3.9.13"
  }
 },
 "nbformat": 4,
 "nbformat_minor": 2
}
