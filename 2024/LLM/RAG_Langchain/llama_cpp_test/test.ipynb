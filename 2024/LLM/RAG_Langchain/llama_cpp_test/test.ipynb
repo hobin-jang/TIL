{
 "cells": [
  {
   "cell_type": "code",
   "execution_count": 1,
   "metadata": {},
   "outputs": [],
   "source": [
    "# llama-cpp test\n",
    "# model : Meta-Llama-3-8B-Instruct.Q2_K.gguf (https://huggingface.co/QuantFactory/Meta-Llama-3-8B-Instruct-GGUF)\n",
    "\n",
    "# install CPU version\n",
    "# CMAKE_ARGS=\"-DLLAMA_BLAS=ON -DLLAMA_BLAS_VENDOR=OpenBLAS\" pip install llama-cpp-python\n",
    "\n",
    "# install CUDA version\n",
    "# CMAKE_ARGS=\"-DLLAMA_CUDA=on\" pip install llama-cpp-python\n",
    "# Or specific CUDA version (CUDA >= 12.1, python >= 3.10)\n",
    "# pip install llama-cpp-python --extra-index-url https://abetlen.github.io/llama-cpp-python/whl/<cuda-version>\n",
    "# <cuda-version> : if CUDA 12.1, then <cuda-version>=cu121\n",
    "# ex) --extra-index-url https://abetlen.github.io/llama-cpp-python/whl/cu121\n"
   ]
  },
  {
   "cell_type": "code",
   "execution_count": 3,
   "metadata": {},
   "outputs": [],
   "source": [
    "from langchain.callbacks.manager import CallbackManager\n",
    "from langchain.callbacks.streaming_stdout import StreamingStdOutCallbackHandler\n",
    "from langchain_community.llms import LlamaCpp"
   ]
  },
  {
   "cell_type": "code",
   "execution_count": 4,
   "metadata": {},
   "outputs": [
    {
     "name": "stderr",
     "output_type": "stream",
     "text": [
      "llama_model_loader: loaded meta data with 22 key-value pairs and 291 tensors from ../Meta-Llama-3-8B-Instruct.Q4_1.gguf (version GGUF V3 (latest))\n",
      "llama_model_loader: Dumping metadata keys/values. Note: KV overrides do not apply in this output.\n",
      "llama_model_loader: - kv   0:                       general.architecture str              = llama\n",
      "llama_model_loader: - kv   1:                               general.name str              = .\n",
      "llama_model_loader: - kv   2:                           llama.vocab_size u32              = 128256\n",
      "llama_model_loader: - kv   3:                       llama.context_length u32              = 8192\n",
      "llama_model_loader: - kv   4:                     llama.embedding_length u32              = 4096\n",
      "llama_model_loader: - kv   5:                          llama.block_count u32              = 32\n",
      "llama_model_loader: - kv   6:                  llama.feed_forward_length u32              = 14336\n",
      "llama_model_loader: - kv   7:                 llama.rope.dimension_count u32              = 128\n",
      "llama_model_loader: - kv   8:                 llama.attention.head_count u32              = 32\n",
      "llama_model_loader: - kv   9:              llama.attention.head_count_kv u32              = 8\n",
      "llama_model_loader: - kv  10:     llama.attention.layer_norm_rms_epsilon f32              = 0.000010\n",
      "llama_model_loader: - kv  11:                       llama.rope.freq_base f32              = 500000.000000\n",
      "llama_model_loader: - kv  12:                          general.file_type u32              = 3\n",
      "llama_model_loader: - kv  13:                       tokenizer.ggml.model str              = gpt2\n",
      "llama_model_loader: - kv  14:                      tokenizer.ggml.tokens arr[str,128256]  = [\"!\", \"\\\"\", \"#\", \"$\", \"%\", \"&\", \"'\", ...\n",
      "llama_model_loader: - kv  15:                      tokenizer.ggml.scores arr[f32,128256]  = [0.000000, 0.000000, 0.000000, 0.0000...\n",
      "llama_model_loader: - kv  16:                  tokenizer.ggml.token_type arr[i32,128256]  = [1, 1, 1, 1, 1, 1, 1, 1, 1, 1, 1, 1, ...\n",
      "llama_model_loader: - kv  17:                      tokenizer.ggml.merges arr[str,280147]  = [\"Ġ Ġ\", \"Ġ ĠĠĠ\", \"ĠĠ ĠĠ\", \"...\n",
      "llama_model_loader: - kv  18:                tokenizer.ggml.bos_token_id u32              = 128000\n",
      "llama_model_loader: - kv  19:                tokenizer.ggml.eos_token_id u32              = 128009\n",
      "llama_model_loader: - kv  20:                    tokenizer.chat_template str              = {% set loop_messages = messages %}{% ...\n",
      "llama_model_loader: - kv  21:               general.quantization_version u32              = 2\n",
      "llama_model_loader: - type  f32:   65 tensors\n",
      "llama_model_loader: - type q4_1:  225 tensors\n",
      "llama_model_loader: - type q6_K:    1 tensors\n",
      "llm_load_vocab: missing pre-tokenizer type, using: 'default'\n",
      "llm_load_vocab:                                             \n",
      "llm_load_vocab: ************************************        \n",
      "llm_load_vocab: GENERATION QUALITY WILL BE DEGRADED!        \n",
      "llm_load_vocab: CONSIDER REGENERATING THE MODEL             \n",
      "llm_load_vocab: ************************************        \n",
      "llm_load_vocab:                                             \n",
      "llm_load_vocab: special tokens definition check successful ( 256/128256 ).\n",
      "llm_load_print_meta: format           = GGUF V3 (latest)\n",
      "llm_load_print_meta: arch             = llama\n",
      "llm_load_print_meta: vocab type       = BPE\n",
      "llm_load_print_meta: n_vocab          = 128256\n",
      "llm_load_print_meta: n_merges         = 280147\n",
      "llm_load_print_meta: n_ctx_train      = 8192\n",
      "llm_load_print_meta: n_embd           = 4096\n",
      "llm_load_print_meta: n_head           = 32\n",
      "llm_load_print_meta: n_head_kv        = 8\n",
      "llm_load_print_meta: n_layer          = 32\n",
      "llm_load_print_meta: n_rot            = 128\n",
      "llm_load_print_meta: n_embd_head_k    = 128\n",
      "llm_load_print_meta: n_embd_head_v    = 128\n",
      "llm_load_print_meta: n_gqa            = 4\n",
      "llm_load_print_meta: n_embd_k_gqa     = 1024\n",
      "llm_load_print_meta: n_embd_v_gqa     = 1024\n",
      "llm_load_print_meta: f_norm_eps       = 0.0e+00\n",
      "llm_load_print_meta: f_norm_rms_eps   = 1.0e-05\n",
      "llm_load_print_meta: f_clamp_kqv      = 0.0e+00\n",
      "llm_load_print_meta: f_max_alibi_bias = 0.0e+00\n",
      "llm_load_print_meta: f_logit_scale    = 0.0e+00\n",
      "llm_load_print_meta: n_ff             = 14336\n",
      "llm_load_print_meta: n_expert         = 0\n",
      "llm_load_print_meta: n_expert_used    = 0\n",
      "llm_load_print_meta: causal attn      = 1\n",
      "llm_load_print_meta: pooling type     = 0\n",
      "llm_load_print_meta: rope type        = 0\n",
      "llm_load_print_meta: rope scaling     = linear\n",
      "llm_load_print_meta: freq_base_train  = 500000.0\n",
      "llm_load_print_meta: freq_scale_train = 1\n",
      "llm_load_print_meta: n_yarn_orig_ctx  = 8192\n",
      "llm_load_print_meta: rope_finetuned   = unknown\n",
      "llm_load_print_meta: ssm_d_conv       = 0\n",
      "llm_load_print_meta: ssm_d_inner      = 0\n",
      "llm_load_print_meta: ssm_d_state      = 0\n",
      "llm_load_print_meta: ssm_dt_rank      = 0\n",
      "llm_load_print_meta: model type       = 8B\n",
      "llm_load_print_meta: model ftype      = Q4_1\n",
      "llm_load_print_meta: model params     = 8.03 B\n",
      "llm_load_print_meta: model size       = 4.77 GiB (5.10 BPW) \n",
      "llm_load_print_meta: general.name     = .\n",
      "llm_load_print_meta: BOS token        = 128000 '<|begin_of_text|>'\n",
      "llm_load_print_meta: EOS token        = 128009 '<|eot_id|>'\n",
      "llm_load_print_meta: LF token         = 128 'Ä'\n",
      "llm_load_print_meta: EOT token        = 128009 '<|eot_id|>'\n",
      "llm_load_tensors: ggml ctx size =    0.15 MiB\n",
      "llm_load_tensors:        CPU buffer size =  4885.12 MiB\n",
      "........................................................................................\n",
      "llama_new_context_with_model: n_batch is less than GGML_KQ_MASK_PAD - increasing to 32\n",
      "llama_new_context_with_model: n_ctx      = 512\n",
      "llama_new_context_with_model: n_batch    = 32\n",
      "llama_new_context_with_model: n_ubatch   = 32\n",
      "llama_new_context_with_model: flash_attn = 0\n",
      "llama_new_context_with_model: freq_base  = 10000.0\n",
      "llama_new_context_with_model: freq_scale = 1\n",
      "llama_kv_cache_init:        CPU KV buffer size =    64.00 MiB\n",
      "llama_new_context_with_model: KV self size  =   64.00 MiB, K (f16):   32.00 MiB, V (f16):   32.00 MiB\n",
      "llama_new_context_with_model:        CPU  output buffer size =     0.49 MiB\n",
      "llama_new_context_with_model:        CPU compute buffer size =    16.16 MiB\n",
      "llama_new_context_with_model: graph nodes  = 1030\n",
      "llama_new_context_with_model: graph splits = 1\n",
      "AVX = 1 | AVX_VNNI = 0 | AVX2 = 1 | AVX512 = 1 | AVX512_VBMI = 0 | AVX512_VNNI = 0 | FMA = 1 | NEON = 0 | ARM_FMA = 0 | F16C = 1 | FP16_VA = 0 | WASM_SIMD = 0 | BLAS = 0 | SSE3 = 1 | SSSE3 = 0 | VSX = 0 | MATMUL_INT8 = 0 | LLAMAFILE = 1 | \n",
      "Model metadata: {'general.name': '.', 'general.architecture': 'llama', 'llama.block_count': '32', 'llama.vocab_size': '128256', 'llama.context_length': '8192', 'llama.rope.dimension_count': '128', 'llama.embedding_length': '4096', 'llama.feed_forward_length': '14336', 'llama.attention.head_count': '32', 'tokenizer.ggml.eos_token_id': '128009', 'general.file_type': '3', 'llama.attention.head_count_kv': '8', 'llama.attention.layer_norm_rms_epsilon': '0.000010', 'llama.rope.freq_base': '500000.000000', 'tokenizer.ggml.model': 'gpt2', 'general.quantization_version': '2', 'tokenizer.ggml.bos_token_id': '128000', 'tokenizer.chat_template': \"{% set loop_messages = messages %}{% for message in loop_messages %}{% set content = '<|start_header_id|>' + message['role'] + '<|end_header_id|>\\n\\n'+ message['content'] | trim + '<|eot_id|>' %}{% if loop.index0 == 0 %}{% set content = bos_token + content %}{% endif %}{{ content }}{% endfor %}{{ '<|start_header_id|>assistant<|end_header_id|>\\n\\n' }}\"}\n",
      "Using gguf chat template: {% set loop_messages = messages %}{% for message in loop_messages %}{% set content = '<|start_header_id|>' + message['role'] + '<|end_header_id|>\n",
      "\n",
      "'+ message['content'] | trim + '<|eot_id|>' %}{% if loop.index0 == 0 %}{% set content = bos_token + content %}{% endif %}{{ content }}{% endfor %}{{ '<|start_header_id|>assistant<|end_header_id|>\n",
      "\n",
      "' }}\n",
      "Using chat eos_token: <|eot_id|>\n",
      "Using chat bos_token: <|begin_of_text|>\n"
     ]
    }
   ],
   "source": [
    "callback_manager = CallbackManager([StreamingStdOutCallbackHandler()])\n",
    "\n",
    "llm = LlamaCpp(\n",
    "    model_path=\"../Meta-Llama-3-8B-Instruct.Q4_1.gguf\",\n",
    "    temperature=0.75,\n",
    "    max_tokens=2000,\n",
    "    top_p=1,\n",
    "    callback_manager=callback_manager,\n",
    "    verbose=True,\n",
    ")"
   ]
  },
  {
   "cell_type": "code",
   "execution_count": 5,
   "metadata": {},
   "outputs": [],
   "source": [
    "Question = \"Show me FFT algorithm using C++\""
   ]
  },
  {
   "cell_type": "code",
   "execution_count": 6,
   "metadata": {},
   "outputs": [
    {
     "name": "stderr",
     "output_type": "stream",
     "text": [
      "c:\\Users\\ghqls\\Desktop\\Github\\TIL\\2024\\LLM\\RAG_Langchain\\venv\\lib\\site-packages\\langchain_core\\_api\\deprecation.py:119: LangChainDeprecationWarning: The method `BaseLLM.__call__` was deprecated in langchain-core 0.1.7 and will be removed in 0.2.0. Use invoke instead.\n",
      "  warn_deprecated(\n"
     ]
    },
    {
     "name": "stdout",
     "output_type": "stream",
     "text": [
      " code.\n",
      "FFT (Fast Fourier Transform) is an efficient algorithm for computing discrete Fourier transforms. The FFT algorithm reduces the computational complexity of a DFT from O(n^2) to O(n log n).\n",
      "\n",
      "Here's a simple implementation of the Cooley-Tukey algorithm, which is one of the most widely used FFT algorithms:\n",
      "\n",
      "```cpp\n",
      "#include <iostream>\n",
      "#include <complex>\n",
      "\n",
      "using namespace std;\n",
      "\n",
      "const int N = 8; // Number of samples\n",
      "\n",
      "// Function to calculate the complex exponential\n",
      "complex<double> calcExp(double x) {\n",
      "    return polar(1.0, x);\n",
      "}\n",
      "\n",
      "// Cooley-Tukey FFT algorithm\n",
      "void fft(double *x, double *y) {\n",
      "    for (int i = 0; i < N; i++) {\n",
      "        y[i] = 0;\n",
      "        for (int j = 0; j < N; j++) {\n",
      "            double temp = x[j * N + i];\n",
      "            y[i] += temp * calcExp(-2.0 * M_PI * j / N));\n",
      "        }\n",
      "    }\n",
      "}\n",
      "\n",
      "int main() {\n",
      "    double x[N], y[N];\n",
      "\n",
      "    // Initialize input samples\n",
      "    for (int i = 0; i < N; i++) {\n",
      "        x[i] = sin(2.0 * M_PI * i / N)) + 1e-6 * cos(4.0 * M_PI * i / N)));\n",
      "    }\n",
      "\n",
      "    fft(x, y);\n",
      "\n",
      "    // Print output samples\n",
      "    for (int i = 0; i < N; i++) {\n",
      "        cout << \"y[\" << i << \"] = \" << y[i] << endl;\n",
      "    }\n",
      "\n",
      "    return 0;\n",
      "}\n",
      "```\n",
      "\n",
      "This code calculates the FFT of a set of input samples, `x`, and prints the output samples, `y`. The FFT algorithm used in this code is the Cooley-Tukey algorithm.\n",
      "\n",
      "Note that this code assumes that the number of input samples is a power of 2. If the number of input samples is not a power of 2, you may need to pad the input samples with zeros before calculating the FFT. You can use the `pad` function from the `complex.h` header file to pad the input samples with zeros.\n",
      "\n",
      "Here's an example of how you could modify the code to pad the input samples with zeros:\n",
      "```c\n",
      "#include <complex>\n",
      "\n",
      "using namespace std;\n",
      "\n",
      "const int N = 8; // Number of input samples\n",
      "\n",
      "//"
     ]
    },
    {
     "name": "stderr",
     "output_type": "stream",
     "text": [
      "\n",
      "llama_print_timings:        load time =    4087.28 ms\n",
      "llama_print_timings:      sample time =     391.81 ms /   504 runs   (    0.78 ms per token,  1286.33 tokens per second)\n",
      "llama_print_timings: prompt eval time =    4087.23 ms /     8 tokens (  510.90 ms per token,     1.96 tokens per second)\n",
      "llama_print_timings:        eval time =  165527.67 ms /   503 runs   (  329.08 ms per token,     3.04 tokens per second)\n",
      "llama_print_timings:       total time =  177427.43 ms /   511 tokens\n"
     ]
    },
    {
     "data": {
      "text/plain": [
       "' code.\\nFFT (Fast Fourier Transform) is an efficient algorithm for computing discrete Fourier transforms. The FFT algorithm reduces the computational complexity of a DFT from O(n^2) to O(n log n).\\n\\nHere\\'s a simple implementation of the Cooley-Tukey algorithm, which is one of the most widely used FFT algorithms:\\n\\n```cpp\\n#include <iostream>\\n#include <complex>\\n\\nusing namespace std;\\n\\nconst int N = 8; // Number of samples\\n\\n// Function to calculate the complex exponential\\ncomplex<double> calcExp(double x) {\\n    return polar(1.0, x);\\n}\\n\\n// Cooley-Tukey FFT algorithm\\nvoid fft(double *x, double *y) {\\n    for (int i = 0; i < N; i++) {\\n        y[i] = 0;\\n        for (int j = 0; j < N; j++) {\\n            double temp = x[j * N + i];\\n            y[i] += temp * calcExp(-2.0 * M_PI * j / N));\\n        }\\n    }\\n}\\n\\nint main() {\\n    double x[N], y[N];\\n\\n    // Initialize input samples\\n    for (int i = 0; i < N; i++) {\\n        x[i] = sin(2.0 * M_PI * i / N)) + 1e-6 * cos(4.0 * M_PI * i / N)));\\n    }\\n\\n    fft(x, y);\\n\\n    // Print output samples\\n    for (int i = 0; i < N; i++) {\\n        cout << \"y[\" << i << \"] = \" << y[i] << endl;\\n    }\\n\\n    return 0;\\n}\\n```\\n\\nThis code calculates the FFT of a set of input samples, `x`, and prints the output samples, `y`. The FFT algorithm used in this code is the Cooley-Tukey algorithm.\\n\\nNote that this code assumes that the number of input samples is a power of 2. If the number of input samples is not a power of 2, you may need to pad the input samples with zeros before calculating the FFT. You can use the `pad` function from the `complex.h` header file to pad the input samples with zeros.\\n\\nHere\\'s an example of how you could modify the code to pad the input samples with zeros:\\n```c\\n#include <complex>\\n\\nusing namespace std;\\n\\nconst int N = 8; // Number of input samples\\n\\n//'"
      ]
     },
     "execution_count": 6,
     "metadata": {},
     "output_type": "execute_result"
    }
   ],
   "source": [
    "llm(Question)"
   ]
  },
  {
   "cell_type": "code",
   "execution_count": null,
   "metadata": {},
   "outputs": [],
   "source": []
  }
 ],
 "metadata": {
  "kernelspec": {
   "display_name": "venv",
   "language": "python",
   "name": "python3"
  },
  "language_info": {
   "codemirror_mode": {
    "name": "ipython",
    "version": 3
   },
   "file_extension": ".py",
   "mimetype": "text/x-python",
   "name": "python",
   "nbconvert_exporter": "python",
   "pygments_lexer": "ipython3",
   "version": "3.9.13"
  }
 },
 "nbformat": 4,
 "nbformat_minor": 2
}
