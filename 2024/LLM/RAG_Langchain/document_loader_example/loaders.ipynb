{
 "cells": [
  {
   "cell_type": "markdown",
   "metadata": {},
   "source": [
    "ref : \n",
    "\n",
    "https://colab.research.google.com/drive/1FSt6hTNTcc-ZwJfHqk7W_nFNaCHgSaHm?usp=sharing%EF%BB%BF#scrollTo=VM6SrqUtgM8A\n",
    "\n",
    "https://python.langchain.com/docs/modules/data_connection/document_loaders/"
   ]
  },
  {
   "cell_type": "markdown",
   "metadata": {},
   "source": [
    "langchain document loader로 읽을 수 있는 데이터 타입\n",
    "\n",
    "- html\n",
    "- csv\n",
    "- json\n",
    "- markdown\n",
    "- pdf\n",
    "- ..."
   ]
  },
  {
   "cell_type": "code",
   "execution_count": 4,
   "metadata": {},
   "outputs": [
    {
     "name": "stdout",
     "output_type": "stream",
     "text": [
      "Collecting beautifulsoup4\n",
      "  Downloading beautifulsoup4-4.12.3-py3-none-any.whl.metadata (3.8 kB)\n",
      "Collecting soupsieve>1.2 (from beautifulsoup4)\n",
      "  Downloading soupsieve-2.5-py3-none-any.whl.metadata (4.7 kB)\n",
      "Downloading beautifulsoup4-4.12.3-py3-none-any.whl (147 kB)\n",
      "\u001b[2K   \u001b[90m━━━━━━━━━━━━━━━━━━━━━━━━━━━━━━━━━━━━━━━━\u001b[0m \u001b[32m147.9/147.9 kB\u001b[0m \u001b[31m3.3 MB/s\u001b[0m eta \u001b[36m0:00:00\u001b[0ma \u001b[36m0:00:01\u001b[0m\n",
      "\u001b[?25hDownloading soupsieve-2.5-py3-none-any.whl (36 kB)\n",
      "Installing collected packages: soupsieve, beautifulsoup4\n",
      "Successfully installed beautifulsoup4-4.12.3 soupsieve-2.5\n"
     ]
    }
   ],
   "source": [
    "# WebBaseLoader\n",
    "# url에 있는 html의 모든 text를 load \n",
    "\n",
    "# 이를 위해 bs4 필요 \n",
    "!python3 -m pip install beautifulsoup4"
   ]
  },
  {
   "cell_type": "code",
   "execution_count": 2,
   "metadata": {},
   "outputs": [
    {
     "data": {
      "text/plain": [
       "[Document(page_content='\\n\\n\\n\\n\\n\\n\\n\\n\\nESPN - Serving Sports Fans. Anytime. Anywhere.\\n\\n\\n\\n\\n\\n\\n\\n\\n\\n\\n\\n\\n\\n\\n\\n\\n\\n\\n\\n\\n\\n\\n\\n\\n\\n\\n\\n\\n\\n\\n\\n\\n\\n\\n\\n\\n\\n\\n\\n\\n\\n\\n\\n\\n\\n\\n\\n\\n\\n\\n\\n\\n\\n\\n\\n\\n\\n\\n\\n\\n\\n\\n\\n\\n\\n\\n\\n\\n\\n\\n\\n\\n\\n\\n\\n\\n\\n\\n\\n\\n\\n\\n\\n\\n\\n\\n\\n\\n\\n\\n\\n\\n\\n        Skip to main content\\n    \\n\\n        Skip to navigation\\n    \\n\\n\\n\\n\\n\\n\\n\\n\\n\\n\\n\\n\\n\\n\\n\\n\\n\\n\\n\\n\\n\\n\\n\\n\\n\\n\\n\\n\\n\\n\\n\\n\\n\\n<\\n\\n>\\n\\n\\n\\n\\n\\n\\n\\n\\n\\nMenuESPN\\n\\n\\n\\n\\n\\nscores\\n\\n\\n\\nNFLNBAMLBNHLSoccerMMA…NCAAFSports BettingBoxingCFLNCAACricketF1GolfHorseLLWSNASCARNBA G LeagueNCAAMNCAAWOlympic SportsPLLProfessional WrestlingRacingRN BBRN FBRugbyTennisWNBAX GamesUFLMore ESPNFantasyWatchESPN BETESPN+\\n\\n\\n\\n\\n\\n\\n\\n\\n\\n\\n\\n\\n\\n\\n\\n  \\n\\nSubscribe Now\\n\\n\\n\\n\\n\\nUFC 301: Pantoja vs. Erceg (ESPN+ PPV)\\n\\n\\n\\n\\n\\n\\n\\nNHL: Maple Leafs vs. Bruins (Game 7)\\n\\n\\n\\n\\n\\n\\n\\nLALIGA\\n\\n\\n\\n\\n\\n\\n\\nBundesliga\\n\\n\\n\\n\\n\\n\\n\\nUFL\\n\\n\\n\\n\\n\\n\\n\\nMLB\\n\\n\\n\\n\\n\\n\\n\\nPGA TOUR LIVE\\n\\n\\n\\n\\n\\n\\n\\nNCAA Baseball\\n\\n\\n\\n\\n\\n\\n\\nNCAA Softball\\n\\n\\nQuick Links\\n\\n\\n\\n\\nNFL Draft\\n\\n\\n\\n\\n\\n\\n\\nNBA Postseason Tracker\\n\\n\\n\\n\\n\\n\\n\\nNFL Free Agency\\n\\n\\n\\n\\n\\n\\n\\nESPN Radio: Listen Live\\n\\n\\n\\n\\n\\n\\n\\nHow To Watch NHL Games\\n\\n\\n\\n\\n\\n\\n\\nWatch Golf on ESPN\\n\\n\\n\\n\\n\\n\\nFavorites\\n\\n\\n\\n\\n\\n\\n      Manage Favorites\\n      \\n\\n\\n\\nCustomize ESPNCreate AccountLog InESPN Sites\\n\\n\\n\\n\\nESPN Deportes\\n\\n\\n\\n\\n\\n\\n\\nAndscape\\n\\n\\n\\n\\n\\n\\n\\nespnW\\n\\n\\n\\n\\n\\n\\n\\nESPNFC\\n\\n\\n\\n\\n\\n\\n\\nX Games\\n\\n\\n\\n\\n\\n\\n\\nSEC Network\\n\\n\\nESPN Apps\\n\\n\\n\\n\\nESPN\\n\\n\\n\\n\\n\\n\\n\\nESPN Fantasy\\n\\n\\n\\n\\n\\n\\n\\nTournament Challenge\\n\\n\\nFollow ESPN\\n\\n\\n\\n\\nFacebook\\n\\n\\n\\n\\n\\n\\n\\nX/Twitter\\n\\n\\n\\n\\n\\n\\n\\nInstagram\\n\\n\\n\\n\\n\\n\\n\\nSnapchat\\n\\n\\n\\n\\n\\n\\n\\nTikTok\\n\\n\\n\\n\\n\\n\\n\\nYouTube\\n\\n\\nWest Semifinals - Game 1Series starts 5/4Lowe: What to expect from this Timberwolves-Nuggets clash of the titansOn paper, Minnesota and Denver are even. Here are the matchups, schemes and counters that will determine what should be an epic Western Conference battle.22hZach LoweBart Young/NBAE via Getty ImagesAndscapeTimberwolves guard Anthony Edwards\\' superstar turn2hJustin TinsleyExpert picks for Wolves-NuggetsThree bets for Game 1TOP HEADLINESPadres trade for Marlins batting champ ArraezBrady-backed Birmingham drops to third divisionClark \\'proud\\' after 21-point WNBA preseason debutGeorge, Harden mum on future as Clips fall againYanks\\' Cole takes next step, throws off moundKyrie vanquishes Clips in 2nd half; Mavs move onIpswich reaches EPL off back-to-back promotionsLakers fire Ham after 2 postseason appearancesHow to bet the Kentucky DerbyUFC 301 - Flyweight - Main Event - Title FightThe three-fight journey that got Steve Erceg to a flyweight title shotErceg\\'s path to Saturday\\'s opportunity is unprecedented, but the preparation has been a long time coming.1dAndreas HaleExpert picks and best betsIs Brazilian home-cage advantage real?West 1st Round - Game 6DAL wins series 4-2Dallas spent trade season surrounding Luka with lob threats and it\\'s workingThe Mavericks might have dealt their way into the perfect supporting cast around Luka Doncic and Kyrie Irving.12hTim MacMahonKyrie on Mavs: \\'This is a selfless group\\'12h1:44NBA playoff bracketWhat the Clippers need to do this offseasonPUMPED ABOUT THE PREMIER LEAGUEEd Sheeran celebrates Ipswich\\'s promotion2h0:42GLOBAL SOCCER SCOREBOARDSATURDAY\\'S GAMESSee AllEast 1st Round - Game 7Series tied 3-3Who wins Game 7 of Bruins-Maple Leafs? Key players to watch, final score predictionsIt all comes down to this. With two fan bases on edge, here are the critical factors for each club to win the decisive game Saturday.4hESPN staffClaus Andersen/Getty ImagesPGA TOUR: CJ CUP BYRON NELSONSTREAM LIVE ON ESPN+FORMULA ONEWatch live: Miami Grand Prix sprint racelive Top HeadlinesPadres trade for Marlins batting champ ArraezBrady-backed Birmingham drops to third divisionClark \\'proud\\' after 21-point WNBA preseason debutGeorge, Harden mum on future as Clips fall againYanks\\' Cole takes next step, throws off moundKyrie vanquishes Clips in 2nd half; Mavs move onIpswich reaches EPL off back-to-back promotionsLakers fire Ham after 2 postseason appearancesHow to bet the Kentucky DerbyFavorites FantasyManage FavoritesFantasy HomeCustomize ESPNCreate AccountLog InICYMI0:44Cubs-Mets gets a little wild in 11th thanks to crazy play at the plateOmar Narvaez initially misses the tag on Nick Madrigal at home, but Madrigal hesitates, allowing Narvaez to tag him out. Best of ESPN+ESPN2025 NFL mock draft: Reid\\'s early first-round predictionsJordan Reid makes way-too-early predictions for every pick of next year\\'s first round, including a landing spot for Shedeur Sanders.Keith Gillett/Icon SportswireEarly MLB takeaways: Best and worst teams, umpires, trendsWhat stands out a month into the season? Let\\'s break down the biggest early trends -- and what they mean for the rest of 2024.Illustration by ESPN2014 NBA redraft: Jokic or Embiid at No. 1, and who falls out of the lottery?Jeremy Woo redrafts the 2014 NBA draft lottery, featuring the two best big men in the NBA in Nikola Jokic (No. 41 overall) and Joel Embiid (No. 3).Jerome Miron/USA TODAY SportsRanking college football transfers: Best players available in the portalWe\\'re ranking the best players in the portal by past production and potential to contribute to a new team. Trending NowPhoto by John Smolek/Icon SportswireShould teams trade up in the NFL draft? Lessons from past dealsTrading up isn\\'t simply a pass/fail conversation, but there often is a clear winner. Here\\'s what previous NFL draft deals can teach us.Chris Gardner/Getty ImagesInside the Coyotes\\' stunning move from Arizona to UtahThe franchise\\'s relocation was somehow both lightning fast and painfully slow. Here\\'s how it all fell apart in Arizona, and what lies ahead.Illustration by ESPNThe birth of the Nova KnicksThe \"Nova Knicks\" date back to 2016, inside a Villanova dorm room, centered around despising one specific teammate.Mike Rynearson/USA TODAY SportsPat Tillman, his mom and the 20-year torment of a friendly fire deathTwenty years after Pat Tillman\\'s death, his mom reflects on bad command decisions and false narratives. Sign up to play the #1 Fantasy game!Create A LeagueJoin Public LeagueReactivate A LeagueMock Draft NowSign up to play the #1 Fantasy Baseball GameReactivate A LeagueCreate A LeagueJoin a Public LeaguePractice With a Mock DraftGet a custom ESPN experienceEnjoy the benefits of a personalized accountSelect your favorite leagues, teams and players and get the latest scores, news and updates that matter most to you. \\n\\nESPN+\\n\\n\\n\\n\\nUFC 301: Pantoja vs. Erceg (ESPN+ PPV)\\n\\n\\n\\n\\n\\n\\n\\nNHL: Maple Leafs vs. Bruins (Game 7)\\n\\n\\n\\n\\n\\n\\n\\nUFL\\n\\n\\n\\n\\n\\n\\n\\nMLB\\n\\n\\n\\n\\n\\n\\n\\nPGA TOUR LIVE\\n\\n\\nQuick Links\\n\\n\\n\\n\\nNFL Draft\\n\\n\\n\\n\\n\\n\\n\\nNBA Postseason Tracker\\n\\n\\n\\n\\n\\n\\n\\nNFL Free Agency\\n\\n\\n\\n\\n\\n\\n\\nESPN Radio: Listen Live\\n\\n\\n\\n\\n\\n\\n\\nHow To Watch NHL Games\\n\\n\\n\\n\\n\\n\\n\\nWatch Golf on ESPN\\n\\n\\nESPN Sites\\n\\n\\n\\n\\nESPN Deportes\\n\\n\\n\\n\\n\\n\\n\\nAndscape\\n\\n\\n\\n\\n\\n\\n\\nespnW\\n\\n\\n\\n\\n\\n\\n\\nESPNFC\\n\\n\\n\\n\\n\\n\\n\\nX Games\\n\\n\\n\\n\\n\\n\\n\\nSEC Network\\n\\n\\nESPN Apps\\n\\n\\n\\n\\nESPN\\n\\n\\n\\n\\n\\n\\n\\nESPN Fantasy\\n\\n\\n\\n\\n\\n\\n\\nTournament Challenge\\n\\n\\nFollow ESPN\\n\\n\\n\\n\\nFacebook\\n\\n\\n\\n\\n\\n\\n\\nX/Twitter\\n\\n\\n\\n\\n\\n\\n\\nInstagram\\n\\n\\n\\n\\n\\n\\n\\nSnapchat\\n\\n\\n\\n\\n\\n\\n\\nTikTok\\n\\n\\n\\n\\n\\n\\n\\nYouTube\\n\\n\\nTerms of UsePrivacy PolicyInterest-Based Ads© ESPN Enterprises, Inc. All rights reserved.\\n\\n\\n\\n\\n\\n\\n\\n\\n\\n\\n\\n\\n\\n\\n\\n\\n\\n', metadata={'source': 'https://www.espn.com', 'title': 'ESPN - Serving Sports Fans. Anytime. Anywhere.', 'description': 'Visit ESPN for live scores, highlights and sports news. Stream exclusive games on ESPN+ and play fantasy sports.', 'language': 'en'})]"
      ]
     },
     "execution_count": 2,
     "metadata": {},
     "output_type": "execute_result"
    }
   ],
   "source": [
    "from langchain.document_loaders import WebBaseLoader\n",
    "\n",
    "loader = WebBaseLoader(\"https://www.espn.com\")\n",
    "data = loader.load()\n",
    "data"
   ]
  },
  {
   "cell_type": "code",
   "execution_count": 3,
   "metadata": {},
   "outputs": [
    {
     "data": {
      "text/plain": [
       "[Document(page_content='Google검색이미지지도PlayYouTube뉴스Gmail드라이브더보기캘린더번역도서쇼핑Blogger금융사진문서모두 보기Account Options로그인검색 환경설정웹 기록\\xa0고급검색Google 지원 언어:  English 광고비즈니스 솔루션Google 정보Google.co.kr© 2024 - 개인정보처리방침 - 약관   ', metadata={'source': 'https://google.com', 'title': 'Google', 'language': 'ko'}),\n",
       " Document(page_content='        NAVER                          상단영역 바로가기 서비스 메뉴 바로가기 새소식 블록 바로가기 쇼핑 블록 바로가기 관심사 블록 바로가기 MY 영역 바로가기 위젯 보드 바로가기 보기 설정 바로가기               검색                       검색       입력도구     자동완성/최근검색어펼치기        최근 검색어  전체삭제     검색어 저장 기능이 꺼져 있습니다.설정이 초기화 된다면 도움말을 확인해주세요. 최근 검색어 내역이 없습니다.설정이 초기화 된다면 도움말을 확인해주세요.     자동저장 끄기  도움말   닫기       CUE대화하듯 질문해 보세요이 정보가 표시된 이유  검색어와 포함된 키워드를 기반으로 AI 기술을 활용하여 연관된 추천 질문을 제공합니다. 레이어 닫기      이전 다음             자세히보기      관심사를 반영한 컨텍스트 자동완성도움말   컨텍스트 자동완성   컨텍스트 자동완성  ON/OFF 설정은 해당기기(브라우저)에 저장됩니다.  자세히 보기    동일한 시간대・연령대・남녀별 사용자 그룹의 관심사에 맞춰 자동완성을 제공합니다. 자세히 보기   네이버로그인   컨텍스트 자동완성 레이어 닫기       자동완성 끄기  도움말 신고   닫기                           ', metadata={'source': 'https://naver.com', 'title': 'NAVER', 'description': '네이버 메인에서 다양한 정보와 유용한 컨텐츠를 만나 보세요', 'language': 'ko'})]"
      ]
     },
     "execution_count": 3,
     "metadata": {},
     "output_type": "execute_result"
    }
   ],
   "source": [
    "# 여러 url 동시에 읽기\n",
    "loader = WebBaseLoader([\"https://google.com\", \"https://naver.com\"])\n",
    "data = loader.load()\n",
    "\n",
    "data"
   ]
  },
  {
   "cell_type": "code",
   "execution_count": 5,
   "metadata": {},
   "outputs": [
    {
     "name": "stdout",
     "output_type": "stream",
     "text": [
      "--2024-05-05 01:35:59--  https://gist.githubusercontent.com/solaris33/06a3e796ca5aa5f2802fffeaa2f492c1/raw/46394476d39e22e1b4bda873b36a35967f6314f8/mlb_teams_2012.csv\n",
      "gist.githubusercontent.com (gist.githubusercontent.com) 해석 중... 185.199.108.133, 185.199.110.133, 185.199.109.133, ...\n",
      "다음으로 연결 중: gist.githubusercontent.com (gist.githubusercontent.com)|185.199.108.133|:443... 연결했습니다.\n",
      "HTTP 요청을 보냈습니다. 응답 기다리는 중... 200 OK\n",
      "길이: 847 [text/plain]\n",
      "저장 위치: `mlb_teams_2012.csv'\n",
      "\n",
      "mlb_teams_2012.csv  100%[===================>]     847  --.-KB/s    /  0s      \n",
      "\n",
      "2024-05-05 01:35:59 (16.5 MB/s) - `mlb_teams_2012.csv' 저장함 [847/847]\n",
      "\n"
     ]
    }
   ],
   "source": [
    "# csv loader \n",
    "# row 별로 document로 load \n",
    "\n",
    "# 예제 csv \n",
    "!wget https://gist.githubusercontent.com/solaris33/06a3e796ca5aa5f2802fffeaa2f492c1/raw/46394476d39e22e1b4bda873b36a35967f6314f8/mlb_teams_2012.csv -O mlb_teams_2012.csv"
   ]
  },
  {
   "cell_type": "code",
   "execution_count": 6,
   "metadata": {},
   "outputs": [
    {
     "data": {
      "text/plain": [
       "[Document(page_content='Team: Nationals\\n\"Payroll (millions)\": 81.34\\n\"Wins\": 98', metadata={'source': './mlb_teams_2012.csv', 'row': 0}),\n",
       " Document(page_content='Team: Reds\\n\"Payroll (millions)\": 82.20\\n\"Wins\": 97', metadata={'source': './mlb_teams_2012.csv', 'row': 1}),\n",
       " Document(page_content='Team: Yankees\\n\"Payroll (millions)\": 197.96\\n\"Wins\": 95', metadata={'source': './mlb_teams_2012.csv', 'row': 2}),\n",
       " Document(page_content='Team: Giants\\n\"Payroll (millions)\": 117.62\\n\"Wins\": 94', metadata={'source': './mlb_teams_2012.csv', 'row': 3}),\n",
       " Document(page_content='Team: Braves\\n\"Payroll (millions)\": 83.31\\n\"Wins\": 94', metadata={'source': './mlb_teams_2012.csv', 'row': 4}),\n",
       " Document(page_content='Team: Athletics\\n\"Payroll (millions)\": 55.37\\n\"Wins\": 94', metadata={'source': './mlb_teams_2012.csv', 'row': 5}),\n",
       " Document(page_content='Team: Rangers\\n\"Payroll (millions)\": 120.51\\n\"Wins\": 93', metadata={'source': './mlb_teams_2012.csv', 'row': 6}),\n",
       " Document(page_content='Team: Orioles\\n\"Payroll (millions)\": 81.43\\n\"Wins\": 93', metadata={'source': './mlb_teams_2012.csv', 'row': 7}),\n",
       " Document(page_content='Team: Rays\\n\"Payroll (millions)\": 64.17\\n\"Wins\": 90', metadata={'source': './mlb_teams_2012.csv', 'row': 8}),\n",
       " Document(page_content='Team: Angels\\n\"Payroll (millions)\": 154.49\\n\"Wins\": 89', metadata={'source': './mlb_teams_2012.csv', 'row': 9}),\n",
       " Document(page_content='Team: Tigers\\n\"Payroll (millions)\": 132.30\\n\"Wins\": 88', metadata={'source': './mlb_teams_2012.csv', 'row': 10}),\n",
       " Document(page_content='Team: Cardinals\\n\"Payroll (millions)\": 110.30\\n\"Wins\": 88', metadata={'source': './mlb_teams_2012.csv', 'row': 11}),\n",
       " Document(page_content='Team: Dodgers\\n\"Payroll (millions)\": 95.14\\n\"Wins\": 86', metadata={'source': './mlb_teams_2012.csv', 'row': 12}),\n",
       " Document(page_content='Team: White Sox\\n\"Payroll (millions)\": 96.92\\n\"Wins\": 85', metadata={'source': './mlb_teams_2012.csv', 'row': 13}),\n",
       " Document(page_content='Team: Brewers\\n\"Payroll (millions)\": 97.65\\n\"Wins\": 83', metadata={'source': './mlb_teams_2012.csv', 'row': 14}),\n",
       " Document(page_content='Team: Phillies\\n\"Payroll (millions)\": 174.54\\n\"Wins\": 81', metadata={'source': './mlb_teams_2012.csv', 'row': 15}),\n",
       " Document(page_content='Team: Diamondbacks\\n\"Payroll (millions)\": 74.28\\n\"Wins\": 81', metadata={'source': './mlb_teams_2012.csv', 'row': 16}),\n",
       " Document(page_content='Team: Pirates\\n\"Payroll (millions)\": 63.43\\n\"Wins\": 79', metadata={'source': './mlb_teams_2012.csv', 'row': 17}),\n",
       " Document(page_content='Team: Padres\\n\"Payroll (millions)\": 55.24\\n\"Wins\": 76', metadata={'source': './mlb_teams_2012.csv', 'row': 18}),\n",
       " Document(page_content='Team: Mariners\\n\"Payroll (millions)\": 81.97\\n\"Wins\": 75', metadata={'source': './mlb_teams_2012.csv', 'row': 19}),\n",
       " Document(page_content='Team: Mets\\n\"Payroll (millions)\": 93.35\\n\"Wins\": 74', metadata={'source': './mlb_teams_2012.csv', 'row': 20}),\n",
       " Document(page_content='Team: Blue Jays\\n\"Payroll (millions)\": 75.48\\n\"Wins\": 73', metadata={'source': './mlb_teams_2012.csv', 'row': 21}),\n",
       " Document(page_content='Team: Royals\\n\"Payroll (millions)\": 60.91\\n\"Wins\": 72', metadata={'source': './mlb_teams_2012.csv', 'row': 22}),\n",
       " Document(page_content='Team: Marlins\\n\"Payroll (millions)\": 118.07\\n\"Wins\": 69', metadata={'source': './mlb_teams_2012.csv', 'row': 23}),\n",
       " Document(page_content='Team: Red Sox\\n\"Payroll (millions)\": 173.18\\n\"Wins\": 69', metadata={'source': './mlb_teams_2012.csv', 'row': 24}),\n",
       " Document(page_content='Team: Indians\\n\"Payroll (millions)\": 78.43\\n\"Wins\": 68', metadata={'source': './mlb_teams_2012.csv', 'row': 25}),\n",
       " Document(page_content='Team: Twins\\n\"Payroll (millions)\": 94.08\\n\"Wins\": 66', metadata={'source': './mlb_teams_2012.csv', 'row': 26}),\n",
       " Document(page_content='Team: Rockies\\n\"Payroll (millions)\": 78.06\\n\"Wins\": 64', metadata={'source': './mlb_teams_2012.csv', 'row': 27}),\n",
       " Document(page_content='Team: Cubs\\n\"Payroll (millions)\": 88.19\\n\"Wins\": 61', metadata={'source': './mlb_teams_2012.csv', 'row': 28}),\n",
       " Document(page_content='Team: Astros\\n\"Payroll (millions)\": 60.65\\n\"Wins\": 55', metadata={'source': './mlb_teams_2012.csv', 'row': 29})]"
      ]
     },
     "execution_count": 6,
     "metadata": {},
     "output_type": "execute_result"
    }
   ],
   "source": [
    "from langchain.document_loaders.csv_loader import CSVLoader\n",
    "\n",
    "loader = CSVLoader(file_path=\"./mlb_teams_2012.csv\")\n",
    "data = loader.load()\n",
    "\n",
    "data"
   ]
  },
  {
   "cell_type": "code",
   "execution_count": 7,
   "metadata": {},
   "outputs": [
    {
     "data": {
      "text/plain": [
       "[Document(page_content='Team: Nationals\\n\"Payroll (millions)\": 81.34\\n\"Wins\": 98', metadata={'source': 'Nationals', 'row': 0}),\n",
       " Document(page_content='Team: Reds\\n\"Payroll (millions)\": 82.20\\n\"Wins\": 97', metadata={'source': 'Reds', 'row': 1}),\n",
       " Document(page_content='Team: Yankees\\n\"Payroll (millions)\": 197.96\\n\"Wins\": 95', metadata={'source': 'Yankees', 'row': 2}),\n",
       " Document(page_content='Team: Giants\\n\"Payroll (millions)\": 117.62\\n\"Wins\": 94', metadata={'source': 'Giants', 'row': 3}),\n",
       " Document(page_content='Team: Braves\\n\"Payroll (millions)\": 83.31\\n\"Wins\": 94', metadata={'source': 'Braves', 'row': 4}),\n",
       " Document(page_content='Team: Athletics\\n\"Payroll (millions)\": 55.37\\n\"Wins\": 94', metadata={'source': 'Athletics', 'row': 5}),\n",
       " Document(page_content='Team: Rangers\\n\"Payroll (millions)\": 120.51\\n\"Wins\": 93', metadata={'source': 'Rangers', 'row': 6}),\n",
       " Document(page_content='Team: Orioles\\n\"Payroll (millions)\": 81.43\\n\"Wins\": 93', metadata={'source': 'Orioles', 'row': 7}),\n",
       " Document(page_content='Team: Rays\\n\"Payroll (millions)\": 64.17\\n\"Wins\": 90', metadata={'source': 'Rays', 'row': 8}),\n",
       " Document(page_content='Team: Angels\\n\"Payroll (millions)\": 154.49\\n\"Wins\": 89', metadata={'source': 'Angels', 'row': 9}),\n",
       " Document(page_content='Team: Tigers\\n\"Payroll (millions)\": 132.30\\n\"Wins\": 88', metadata={'source': 'Tigers', 'row': 10}),\n",
       " Document(page_content='Team: Cardinals\\n\"Payroll (millions)\": 110.30\\n\"Wins\": 88', metadata={'source': 'Cardinals', 'row': 11}),\n",
       " Document(page_content='Team: Dodgers\\n\"Payroll (millions)\": 95.14\\n\"Wins\": 86', metadata={'source': 'Dodgers', 'row': 12}),\n",
       " Document(page_content='Team: White Sox\\n\"Payroll (millions)\": 96.92\\n\"Wins\": 85', metadata={'source': 'White Sox', 'row': 13}),\n",
       " Document(page_content='Team: Brewers\\n\"Payroll (millions)\": 97.65\\n\"Wins\": 83', metadata={'source': 'Brewers', 'row': 14}),\n",
       " Document(page_content='Team: Phillies\\n\"Payroll (millions)\": 174.54\\n\"Wins\": 81', metadata={'source': 'Phillies', 'row': 15}),\n",
       " Document(page_content='Team: Diamondbacks\\n\"Payroll (millions)\": 74.28\\n\"Wins\": 81', metadata={'source': 'Diamondbacks', 'row': 16}),\n",
       " Document(page_content='Team: Pirates\\n\"Payroll (millions)\": 63.43\\n\"Wins\": 79', metadata={'source': 'Pirates', 'row': 17}),\n",
       " Document(page_content='Team: Padres\\n\"Payroll (millions)\": 55.24\\n\"Wins\": 76', metadata={'source': 'Padres', 'row': 18}),\n",
       " Document(page_content='Team: Mariners\\n\"Payroll (millions)\": 81.97\\n\"Wins\": 75', metadata={'source': 'Mariners', 'row': 19}),\n",
       " Document(page_content='Team: Mets\\n\"Payroll (millions)\": 93.35\\n\"Wins\": 74', metadata={'source': 'Mets', 'row': 20}),\n",
       " Document(page_content='Team: Blue Jays\\n\"Payroll (millions)\": 75.48\\n\"Wins\": 73', metadata={'source': 'Blue Jays', 'row': 21}),\n",
       " Document(page_content='Team: Royals\\n\"Payroll (millions)\": 60.91\\n\"Wins\": 72', metadata={'source': 'Royals', 'row': 22}),\n",
       " Document(page_content='Team: Marlins\\n\"Payroll (millions)\": 118.07\\n\"Wins\": 69', metadata={'source': 'Marlins', 'row': 23}),\n",
       " Document(page_content='Team: Red Sox\\n\"Payroll (millions)\": 173.18\\n\"Wins\": 69', metadata={'source': 'Red Sox', 'row': 24}),\n",
       " Document(page_content='Team: Indians\\n\"Payroll (millions)\": 78.43\\n\"Wins\": 68', metadata={'source': 'Indians', 'row': 25}),\n",
       " Document(page_content='Team: Twins\\n\"Payroll (millions)\": 94.08\\n\"Wins\": 66', metadata={'source': 'Twins', 'row': 26}),\n",
       " Document(page_content='Team: Rockies\\n\"Payroll (millions)\": 78.06\\n\"Wins\": 64', metadata={'source': 'Rockies', 'row': 27}),\n",
       " Document(page_content='Team: Cubs\\n\"Payroll (millions)\": 88.19\\n\"Wins\": 61', metadata={'source': 'Cubs', 'row': 28}),\n",
       " Document(page_content='Team: Astros\\n\"Payroll (millions)\": 60.65\\n\"Wins\": 55', metadata={'source': 'Astros', 'row': 29})]"
      ]
     },
     "execution_count": 7,
     "metadata": {},
     "output_type": "execute_result"
    }
   ],
   "source": [
    "# source를 특정 column으로 지정 \n",
    "loader = CSVLoader(file_path=\"./mlb_teams_2012.csv\", source_column=\"Team\")\n",
    "data = loader.load()\n",
    "\n",
    "data"
   ]
  },
  {
   "cell_type": "code",
   "execution_count": 11,
   "metadata": {},
   "outputs": [
    {
     "name": "stdout",
     "output_type": "stream",
     "text": [
      "--2024-05-05 01:47:40--  https://gist.githubusercontent.com/solaris33/f104c7f49ba5db24ea06fd6dfb4c51f9/raw/600a889c5c0eea1c5b82a51877ade446f4bcdf59/sample_html.html\n",
      "gist.githubusercontent.com (gist.githubusercontent.com) 해석 중... 185.199.108.133, 185.199.110.133, 185.199.109.133, ...\n",
      "다음으로 연결 중: gist.githubusercontent.com (gist.githubusercontent.com)|185.199.108.133|:443... 연결했습니다.\n",
      "HTTP 요청을 보냈습니다. 응답 기다리는 중... 200 OK\n",
      "길이: 429472 (419K) [text/plain]\n",
      "저장 위치: `sample_html.html'\n",
      "\n",
      "sample_html.html    100%[===================>] 419.41K  --.-KB/s    /  0.04s   \n",
      "\n",
      "2024-05-05 01:47:41 (10.1 MB/s) - `sample_html.html' 저장함 [429472/429472]\n",
      "\n"
     ]
    }
   ],
   "source": [
    "# HTMLLoader \n",
    "# html 내의 모든 텍스트 읽기 \n",
    "\n",
    "# 예제 html \n",
    "!wget https://gist.githubusercontent.com/solaris33/f104c7f49ba5db24ea06fd6dfb4c51f9/raw/600a889c5c0eea1c5b82a51877ade446f4bcdf59/sample_html.html -O sample_html.html"
   ]
  },
  {
   "cell_type": "code",
   "execution_count": 12,
   "metadata": {},
   "outputs": [
    {
     "name": "stderr",
     "output_type": "stream",
     "text": [
      "[nltk_data] Error loading punkt: <urlopen error [SSL:\n",
      "[nltk_data]     CERTIFICATE_VERIFY_FAILED] certificate verify failed:\n",
      "[nltk_data]     unable to get local issuer certificate (_ssl.c:1006)>\n"
     ]
    },
    {
     "ename": "LookupError",
     "evalue": "\n**********************************************************************\n  Resource \u001b[93mpunkt\u001b[0m not found.\n  Please use the NLTK Downloader to obtain the resource:\n\n  \u001b[31m>>> import nltk\n  >>> nltk.download('punkt')\n  \u001b[0m\n  For more information see: https://www.nltk.org/data.html\n\n  Attempted to load \u001b[93mtokenizers/punkt/PY3/english.pickle\u001b[0m\n\n  Searched in:\n    - '/Users/hobin/nltk_data'\n    - '/Users/hobin/TIL/2024/LLM/RAG_Langchain/venv/nltk_data'\n    - '/Users/hobin/TIL/2024/LLM/RAG_Langchain/venv/share/nltk_data'\n    - '/Users/hobin/TIL/2024/LLM/RAG_Langchain/venv/lib/nltk_data'\n    - '/usr/share/nltk_data'\n    - '/usr/local/share/nltk_data'\n    - '/usr/lib/nltk_data'\n    - '/usr/local/lib/nltk_data'\n    - ''\n**********************************************************************\n",
     "output_type": "error",
     "traceback": [
      "\u001b[0;31m---------------------------------------------------------------------------\u001b[0m",
      "\u001b[0;31mLookupError\u001b[0m                               Traceback (most recent call last)",
      "Cell \u001b[0;32mIn[12], line 4\u001b[0m\n\u001b[1;32m      1\u001b[0m \u001b[38;5;28;01mfrom\u001b[39;00m \u001b[38;5;21;01mlangchain\u001b[39;00m\u001b[38;5;21;01m.\u001b[39;00m\u001b[38;5;21;01mdocument_loaders\u001b[39;00m \u001b[38;5;28;01mimport\u001b[39;00m UnstructuredHTMLLoader\n\u001b[1;32m      3\u001b[0m loader \u001b[38;5;241m=\u001b[39m UnstructuredHTMLLoader(\u001b[38;5;124m\"\u001b[39m\u001b[38;5;124m./sample_html.html\u001b[39m\u001b[38;5;124m\"\u001b[39m)\n\u001b[0;32m----> 4\u001b[0m data \u001b[38;5;241m=\u001b[39m \u001b[43mloader\u001b[49m\u001b[38;5;241;43m.\u001b[39;49m\u001b[43mload\u001b[49m\u001b[43m(\u001b[49m\u001b[43m)\u001b[49m\n\u001b[1;32m      6\u001b[0m data\n",
      "File \u001b[0;32m~/TIL/2024/LLM/RAG_Langchain/venv/lib/python3.11/site-packages/langchain_core/document_loaders/base.py:29\u001b[0m, in \u001b[0;36mBaseLoader.load\u001b[0;34m(self)\u001b[0m\n\u001b[1;32m     27\u001b[0m \u001b[38;5;28;01mdef\u001b[39;00m \u001b[38;5;21mload\u001b[39m(\u001b[38;5;28mself\u001b[39m) \u001b[38;5;241m-\u001b[39m\u001b[38;5;241m>\u001b[39m List[Document]:\n\u001b[1;32m     28\u001b[0m \u001b[38;5;250m    \u001b[39m\u001b[38;5;124;03m\"\"\"Load data into Document objects.\"\"\"\u001b[39;00m\n\u001b[0;32m---> 29\u001b[0m     \u001b[38;5;28;01mreturn\u001b[39;00m \u001b[38;5;28;43mlist\u001b[39;49m\u001b[43m(\u001b[49m\u001b[38;5;28;43mself\u001b[39;49m\u001b[38;5;241;43m.\u001b[39;49m\u001b[43mlazy_load\u001b[49m\u001b[43m(\u001b[49m\u001b[43m)\u001b[49m\u001b[43m)\u001b[49m\n",
      "File \u001b[0;32m~/TIL/2024/LLM/RAG_Langchain/venv/lib/python3.11/site-packages/langchain_community/document_loaders/unstructured.py:88\u001b[0m, in \u001b[0;36mUnstructuredBaseLoader.lazy_load\u001b[0;34m(self)\u001b[0m\n\u001b[1;32m     86\u001b[0m \u001b[38;5;28;01mdef\u001b[39;00m \u001b[38;5;21mlazy_load\u001b[39m(\u001b[38;5;28mself\u001b[39m) \u001b[38;5;241m-\u001b[39m\u001b[38;5;241m>\u001b[39m Iterator[Document]:\n\u001b[1;32m     87\u001b[0m \u001b[38;5;250m    \u001b[39m\u001b[38;5;124;03m\"\"\"Load file.\"\"\"\u001b[39;00m\n\u001b[0;32m---> 88\u001b[0m     elements \u001b[38;5;241m=\u001b[39m \u001b[38;5;28;43mself\u001b[39;49m\u001b[38;5;241;43m.\u001b[39;49m\u001b[43m_get_elements\u001b[49m\u001b[43m(\u001b[49m\u001b[43m)\u001b[49m\n\u001b[1;32m     89\u001b[0m     \u001b[38;5;28mself\u001b[39m\u001b[38;5;241m.\u001b[39m_post_process_elements(elements)\n\u001b[1;32m     90\u001b[0m     \u001b[38;5;28;01mif\u001b[39;00m \u001b[38;5;28mself\u001b[39m\u001b[38;5;241m.\u001b[39mmode \u001b[38;5;241m==\u001b[39m \u001b[38;5;124m\"\u001b[39m\u001b[38;5;124melements\u001b[39m\u001b[38;5;124m\"\u001b[39m:\n",
      "File \u001b[0;32m~/TIL/2024/LLM/RAG_Langchain/venv/lib/python3.11/site-packages/langchain_community/document_loaders/html.py:33\u001b[0m, in \u001b[0;36mUnstructuredHTMLLoader._get_elements\u001b[0;34m(self)\u001b[0m\n\u001b[1;32m     30\u001b[0m \u001b[38;5;28;01mdef\u001b[39;00m \u001b[38;5;21m_get_elements\u001b[39m(\u001b[38;5;28mself\u001b[39m) \u001b[38;5;241m-\u001b[39m\u001b[38;5;241m>\u001b[39m List:\n\u001b[1;32m     31\u001b[0m     \u001b[38;5;28;01mfrom\u001b[39;00m \u001b[38;5;21;01munstructured\u001b[39;00m\u001b[38;5;21;01m.\u001b[39;00m\u001b[38;5;21;01mpartition\u001b[39;00m\u001b[38;5;21;01m.\u001b[39;00m\u001b[38;5;21;01mhtml\u001b[39;00m \u001b[38;5;28;01mimport\u001b[39;00m partition_html\n\u001b[0;32m---> 33\u001b[0m     \u001b[38;5;28;01mreturn\u001b[39;00m \u001b[43mpartition_html\u001b[49m\u001b[43m(\u001b[49m\u001b[43mfilename\u001b[49m\u001b[38;5;241;43m=\u001b[39;49m\u001b[38;5;28;43mself\u001b[39;49m\u001b[38;5;241;43m.\u001b[39;49m\u001b[43mfile_path\u001b[49m\u001b[43m,\u001b[49m\u001b[43m \u001b[49m\u001b[38;5;241;43m*\u001b[39;49m\u001b[38;5;241;43m*\u001b[39;49m\u001b[38;5;28;43mself\u001b[39;49m\u001b[38;5;241;43m.\u001b[39;49m\u001b[43munstructured_kwargs\u001b[49m\u001b[43m)\u001b[49m\n",
      "File \u001b[0;32m~/TIL/2024/LLM/RAG_Langchain/venv/lib/python3.11/site-packages/unstructured/documents/elements.py:570\u001b[0m, in \u001b[0;36mprocess_metadata.<locals>.decorator.<locals>.wrapper\u001b[0;34m(*args, **kwargs)\u001b[0m\n\u001b[1;32m    568\u001b[0m \u001b[38;5;129m@functools\u001b[39m\u001b[38;5;241m.\u001b[39mwraps(func)\n\u001b[1;32m    569\u001b[0m \u001b[38;5;28;01mdef\u001b[39;00m \u001b[38;5;21mwrapper\u001b[39m(\u001b[38;5;241m*\u001b[39margs: _P\u001b[38;5;241m.\u001b[39margs, \u001b[38;5;241m*\u001b[39m\u001b[38;5;241m*\u001b[39mkwargs: _P\u001b[38;5;241m.\u001b[39mkwargs) \u001b[38;5;241m-\u001b[39m\u001b[38;5;241m>\u001b[39m \u001b[38;5;28mlist\u001b[39m[Element]:\n\u001b[0;32m--> 570\u001b[0m     elements \u001b[38;5;241m=\u001b[39m \u001b[43mfunc\u001b[49m\u001b[43m(\u001b[49m\u001b[38;5;241;43m*\u001b[39;49m\u001b[43margs\u001b[49m\u001b[43m,\u001b[49m\u001b[43m \u001b[49m\u001b[38;5;241;43m*\u001b[39;49m\u001b[38;5;241;43m*\u001b[39;49m\u001b[43mkwargs\u001b[49m\u001b[43m)\u001b[49m\n\u001b[1;32m    571\u001b[0m     sig \u001b[38;5;241m=\u001b[39m inspect\u001b[38;5;241m.\u001b[39msignature(func)\n\u001b[1;32m    572\u001b[0m     params: \u001b[38;5;28mdict\u001b[39m[\u001b[38;5;28mstr\u001b[39m, Any] \u001b[38;5;241m=\u001b[39m \u001b[38;5;28mdict\u001b[39m(\u001b[38;5;241m*\u001b[39m\u001b[38;5;241m*\u001b[39m\u001b[38;5;28mdict\u001b[39m(\u001b[38;5;28mzip\u001b[39m(sig\u001b[38;5;241m.\u001b[39mparameters, args)), \u001b[38;5;241m*\u001b[39m\u001b[38;5;241m*\u001b[39mkwargs)\n",
      "File \u001b[0;32m~/TIL/2024/LLM/RAG_Langchain/venv/lib/python3.11/site-packages/unstructured/file_utils/filetype.py:622\u001b[0m, in \u001b[0;36madd_filetype.<locals>.decorator.<locals>.wrapper\u001b[0;34m(*args, **kwargs)\u001b[0m\n\u001b[1;32m    620\u001b[0m \u001b[38;5;129m@functools\u001b[39m\u001b[38;5;241m.\u001b[39mwraps(func)\n\u001b[1;32m    621\u001b[0m \u001b[38;5;28;01mdef\u001b[39;00m \u001b[38;5;21mwrapper\u001b[39m(\u001b[38;5;241m*\u001b[39margs: _P\u001b[38;5;241m.\u001b[39margs, \u001b[38;5;241m*\u001b[39m\u001b[38;5;241m*\u001b[39mkwargs: _P\u001b[38;5;241m.\u001b[39mkwargs) \u001b[38;5;241m-\u001b[39m\u001b[38;5;241m>\u001b[39m List[Element]:\n\u001b[0;32m--> 622\u001b[0m     elements \u001b[38;5;241m=\u001b[39m \u001b[43mfunc\u001b[49m\u001b[43m(\u001b[49m\u001b[38;5;241;43m*\u001b[39;49m\u001b[43margs\u001b[49m\u001b[43m,\u001b[49m\u001b[43m \u001b[49m\u001b[38;5;241;43m*\u001b[39;49m\u001b[38;5;241;43m*\u001b[39;49m\u001b[43mkwargs\u001b[49m\u001b[43m)\u001b[49m\n\u001b[1;32m    623\u001b[0m     sig \u001b[38;5;241m=\u001b[39m inspect\u001b[38;5;241m.\u001b[39msignature(func)\n\u001b[1;32m    624\u001b[0m     params: Dict[\u001b[38;5;28mstr\u001b[39m, Any] \u001b[38;5;241m=\u001b[39m \u001b[38;5;28mdict\u001b[39m(\u001b[38;5;241m*\u001b[39m\u001b[38;5;241m*\u001b[39m\u001b[38;5;28mdict\u001b[39m(\u001b[38;5;28mzip\u001b[39m(sig\u001b[38;5;241m.\u001b[39mparameters, args)), \u001b[38;5;241m*\u001b[39m\u001b[38;5;241m*\u001b[39mkwargs)\n",
      "File \u001b[0;32m~/TIL/2024/LLM/RAG_Langchain/venv/lib/python3.11/site-packages/unstructured/file_utils/filetype.py:582\u001b[0m, in \u001b[0;36madd_metadata.<locals>.wrapper\u001b[0;34m(*args, **kwargs)\u001b[0m\n\u001b[1;32m    580\u001b[0m \u001b[38;5;129m@functools\u001b[39m\u001b[38;5;241m.\u001b[39mwraps(func)\n\u001b[1;32m    581\u001b[0m \u001b[38;5;28;01mdef\u001b[39;00m \u001b[38;5;21mwrapper\u001b[39m(\u001b[38;5;241m*\u001b[39margs: _P\u001b[38;5;241m.\u001b[39margs, \u001b[38;5;241m*\u001b[39m\u001b[38;5;241m*\u001b[39mkwargs: _P\u001b[38;5;241m.\u001b[39mkwargs) \u001b[38;5;241m-\u001b[39m\u001b[38;5;241m>\u001b[39m List[Element]:\n\u001b[0;32m--> 582\u001b[0m     elements \u001b[38;5;241m=\u001b[39m \u001b[43mfunc\u001b[49m\u001b[43m(\u001b[49m\u001b[38;5;241;43m*\u001b[39;49m\u001b[43margs\u001b[49m\u001b[43m,\u001b[49m\u001b[43m \u001b[49m\u001b[38;5;241;43m*\u001b[39;49m\u001b[38;5;241;43m*\u001b[39;49m\u001b[43mkwargs\u001b[49m\u001b[43m)\u001b[49m\n\u001b[1;32m    583\u001b[0m     sig \u001b[38;5;241m=\u001b[39m inspect\u001b[38;5;241m.\u001b[39msignature(func)\n\u001b[1;32m    584\u001b[0m     params: Dict[\u001b[38;5;28mstr\u001b[39m, Any] \u001b[38;5;241m=\u001b[39m \u001b[38;5;28mdict\u001b[39m(\u001b[38;5;241m*\u001b[39m\u001b[38;5;241m*\u001b[39m\u001b[38;5;28mdict\u001b[39m(\u001b[38;5;28mzip\u001b[39m(sig\u001b[38;5;241m.\u001b[39mparameters, args)), \u001b[38;5;241m*\u001b[39m\u001b[38;5;241m*\u001b[39mkwargs)\n",
      "File \u001b[0;32m~/TIL/2024/LLM/RAG_Langchain/venv/lib/python3.11/site-packages/unstructured/chunking/dispatch.py:83\u001b[0m, in \u001b[0;36madd_chunking_strategy.<locals>.wrapper\u001b[0;34m(*args, **kwargs)\u001b[0m\n\u001b[1;32m     80\u001b[0m     \u001b[38;5;28;01mreturn\u001b[39;00m call_args\n\u001b[1;32m     82\u001b[0m \u001b[38;5;66;03m# -- call the partitioning function to get the elements --\u001b[39;00m\n\u001b[0;32m---> 83\u001b[0m elements \u001b[38;5;241m=\u001b[39m \u001b[43mfunc\u001b[49m\u001b[43m(\u001b[49m\u001b[38;5;241;43m*\u001b[39;49m\u001b[43margs\u001b[49m\u001b[43m,\u001b[49m\u001b[43m \u001b[49m\u001b[38;5;241;43m*\u001b[39;49m\u001b[38;5;241;43m*\u001b[39;49m\u001b[43mkwargs\u001b[49m\u001b[43m)\u001b[49m\n\u001b[1;32m     85\u001b[0m \u001b[38;5;66;03m# -- look for a chunking-strategy argument --\u001b[39;00m\n\u001b[1;32m     86\u001b[0m call_args \u001b[38;5;241m=\u001b[39m get_call_args_applying_defaults()\n",
      "File \u001b[0;32m~/TIL/2024/LLM/RAG_Langchain/venv/lib/python3.11/site-packages/unstructured/partition/html.py:147\u001b[0m, in \u001b[0;36mpartition_html\u001b[0;34m(filename, file, text, url, encoding, include_page_breaks, include_metadata, headers, ssl_verify, parser, source_format, html_assemble_articles, metadata_filename, metadata_last_modified, skip_headers_and_footers, chunking_strategy, languages, detect_language_per_element, detection_origin, date_from_file_object, **kwargs)\u001b[0m\n\u001b[1;32m    142\u001b[0m \u001b[38;5;28;01mif\u001b[39;00m skip_headers_and_footers:\n\u001b[1;32m    143\u001b[0m     document \u001b[38;5;241m=\u001b[39m filter_footer_and_header(document)\n\u001b[1;32m    145\u001b[0m \u001b[38;5;28;01mreturn\u001b[39;00m \u001b[38;5;28mlist\u001b[39m(\n\u001b[1;32m    146\u001b[0m     apply_lang_metadata(\n\u001b[0;32m--> 147\u001b[0m         \u001b[43mdocument_to_element_list\u001b[49m\u001b[43m(\u001b[49m\n\u001b[1;32m    148\u001b[0m \u001b[43m            \u001b[49m\u001b[43mdocument\u001b[49m\u001b[43m,\u001b[49m\n\u001b[1;32m    149\u001b[0m \u001b[43m            \u001b[49m\u001b[43msortable\u001b[49m\u001b[38;5;241;43m=\u001b[39;49m\u001b[38;5;28;43;01mFalse\u001b[39;49;00m\u001b[43m,\u001b[49m\n\u001b[1;32m    150\u001b[0m \u001b[43m            \u001b[49m\u001b[43minclude_page_breaks\u001b[49m\u001b[38;5;241;43m=\u001b[39;49m\u001b[43minclude_page_breaks\u001b[49m\u001b[43m,\u001b[49m\n\u001b[1;32m    151\u001b[0m \u001b[43m            \u001b[49m\u001b[43mlast_modification_date\u001b[49m\u001b[38;5;241;43m=\u001b[39;49m\u001b[43mmetadata_last_modified\u001b[49m\u001b[43m \u001b[49m\u001b[38;5;129;43;01mor\u001b[39;49;00m\u001b[43m \u001b[49m\u001b[43mlast_modification_date\u001b[49m\u001b[43m,\u001b[49m\n\u001b[1;32m    152\u001b[0m \u001b[43m            \u001b[49m\u001b[43msource_format\u001b[49m\u001b[38;5;241;43m=\u001b[39;49m\u001b[43msource_format\u001b[49m\u001b[43m \u001b[49m\u001b[38;5;28;43;01mif\u001b[39;49;00m\u001b[43m \u001b[49m\u001b[43msource_format\u001b[49m\u001b[43m \u001b[49m\u001b[38;5;28;43;01melse\u001b[39;49;00m\u001b[43m \u001b[49m\u001b[38;5;28;43;01mNone\u001b[39;49;00m\u001b[43m,\u001b[49m\n\u001b[1;32m    153\u001b[0m \u001b[43m            \u001b[49m\u001b[43mdetection_origin\u001b[49m\u001b[38;5;241;43m=\u001b[39;49m\u001b[43mdetection_origin\u001b[49m\u001b[43m,\u001b[49m\n\u001b[1;32m    154\u001b[0m \u001b[43m            \u001b[49m\u001b[38;5;241;43m*\u001b[39;49m\u001b[38;5;241;43m*\u001b[39;49m\u001b[43mkwargs\u001b[49m\u001b[43m,\u001b[49m\n\u001b[1;32m    155\u001b[0m \u001b[43m        \u001b[49m\u001b[43m)\u001b[49m,\n\u001b[1;32m    156\u001b[0m         languages\u001b[38;5;241m=\u001b[39mlanguages,\n\u001b[1;32m    157\u001b[0m         detect_language_per_element\u001b[38;5;241m=\u001b[39mdetect_language_per_element,\n\u001b[1;32m    158\u001b[0m     ),\n\u001b[1;32m    159\u001b[0m )\n",
      "File \u001b[0;32m~/TIL/2024/LLM/RAG_Langchain/venv/lib/python3.11/site-packages/unstructured/partition/common.py:547\u001b[0m, in \u001b[0;36mdocument_to_element_list\u001b[0;34m(document, sortable, include_page_breaks, last_modification_date, infer_list_items, source_format, detection_origin, sort_mode, languages, starting_page_number, **kwargs)\u001b[0m\n\u001b[1;32m    544\u001b[0m \u001b[38;5;250m\u001b[39m\u001b[38;5;124;03m\"\"\"Converts a DocumentLayout object to a list of unstructured elements.\"\"\"\u001b[39;00m\n\u001b[1;32m    545\u001b[0m elements: List[Element] \u001b[38;5;241m=\u001b[39m []\n\u001b[0;32m--> 547\u001b[0m num_pages \u001b[38;5;241m=\u001b[39m \u001b[38;5;28mlen\u001b[39m(\u001b[43mdocument\u001b[49m\u001b[38;5;241;43m.\u001b[39;49m\u001b[43mpages\u001b[49m)\n\u001b[1;32m    548\u001b[0m \u001b[38;5;28;01mfor\u001b[39;00m page_number, page \u001b[38;5;129;01min\u001b[39;00m \u001b[38;5;28menumerate\u001b[39m(document\u001b[38;5;241m.\u001b[39mpages, start\u001b[38;5;241m=\u001b[39mstarting_page_number):\n\u001b[1;32m    549\u001b[0m     page_elements: List[Element] \u001b[38;5;241m=\u001b[39m []\n",
      "File \u001b[0;32m~/TIL/2024/LLM/RAG_Langchain/venv/lib/python3.11/site-packages/unstructured/documents/xml.py:54\u001b[0m, in \u001b[0;36mXMLDocument.pages\u001b[0;34m(self)\u001b[0m\n\u001b[1;32m     52\u001b[0m \u001b[38;5;250m\u001b[39m\u001b[38;5;124;03m\"\"\"Gets all elements from pages in sequential order.\"\"\"\u001b[39;00m\n\u001b[1;32m     53\u001b[0m \u001b[38;5;28;01mif\u001b[39;00m \u001b[38;5;28mself\u001b[39m\u001b[38;5;241m.\u001b[39m_pages \u001b[38;5;129;01mis\u001b[39;00m \u001b[38;5;28;01mNone\u001b[39;00m:\n\u001b[0;32m---> 54\u001b[0m     \u001b[38;5;28mself\u001b[39m\u001b[38;5;241m.\u001b[39m_pages \u001b[38;5;241m=\u001b[39m \u001b[38;5;28;43mself\u001b[39;49m\u001b[38;5;241;43m.\u001b[39;49m\u001b[43m_parse_pages_from_element_tree\u001b[49m\u001b[43m(\u001b[49m\u001b[43m)\u001b[49m\n\u001b[1;32m     55\u001b[0m \u001b[38;5;28;01mreturn\u001b[39;00m \u001b[38;5;28msuper\u001b[39m()\u001b[38;5;241m.\u001b[39mpages\n",
      "File \u001b[0;32m~/TIL/2024/LLM/RAG_Langchain/venv/lib/python3.11/site-packages/unstructured/documents/html.py:173\u001b[0m, in \u001b[0;36mHTMLDocument._parse_pages_from_element_tree\u001b[0;34m(self)\u001b[0m\n\u001b[1;32m    170\u001b[0m     \u001b[38;5;28;01mcontinue\u001b[39;00m\n\u001b[1;32m    172\u001b[0m \u001b[38;5;28;01mif\u001b[39;00m _is_text_tag(tag_elem):\n\u001b[0;32m--> 173\u001b[0m     _page_elements, descendanttag_elems \u001b[38;5;241m=\u001b[39m \u001b[43m_process_text_tag\u001b[49m\u001b[43m(\u001b[49m\u001b[43mtag_elem\u001b[49m\u001b[43m)\u001b[49m\n\u001b[1;32m    174\u001b[0m     page\u001b[38;5;241m.\u001b[39melements\u001b[38;5;241m.\u001b[39mextend(_page_elements)\n\u001b[1;32m    176\u001b[0m \u001b[38;5;28;01melif\u001b[39;00m _is_container_with_text(tag_elem):\n",
      "File \u001b[0;32m~/TIL/2024/LLM/RAG_Langchain/venv/lib/python3.11/site-packages/unstructured/documents/html.py:630\u001b[0m, in \u001b[0;36m_process_text_tag\u001b[0;34m(tag_elem, include_tail_text)\u001b[0m\n\u001b[1;32m    627\u001b[0m             page_elements\u001b[38;5;241m.\u001b[39mappend(element)\n\u001b[1;32m    629\u001b[0m \u001b[38;5;28;01melse\u001b[39;00m:\n\u001b[0;32m--> 630\u001b[0m     element \u001b[38;5;241m=\u001b[39m \u001b[43m_parse_tag\u001b[49m\u001b[43m(\u001b[49m\u001b[43mtag_elem\u001b[49m\u001b[43m,\u001b[49m\u001b[43m \u001b[49m\u001b[43minclude_tail_text\u001b[49m\u001b[43m)\u001b[49m\n\u001b[1;32m    631\u001b[0m     \u001b[38;5;28;01mif\u001b[39;00m element \u001b[38;5;129;01mis\u001b[39;00m \u001b[38;5;129;01mnot\u001b[39;00m \u001b[38;5;28;01mNone\u001b[39;00m:\n\u001b[1;32m    632\u001b[0m         page_elements\u001b[38;5;241m.\u001b[39mappend(element)\n",
      "File \u001b[0;32m~/TIL/2024/LLM/RAG_Langchain/venv/lib/python3.11/site-packages/unstructured/documents/html.py:438\u001b[0m, in \u001b[0;36m_parse_tag\u001b[0;34m(tag_elem, include_tail_text)\u001b[0m\n\u001b[1;32m    436\u001b[0m \u001b[38;5;28;01mif\u001b[39;00m \u001b[38;5;129;01mnot\u001b[39;00m text:\n\u001b[1;32m    437\u001b[0m     \u001b[38;5;28;01mreturn\u001b[39;00m \u001b[38;5;28;01mNone\u001b[39;00m\n\u001b[0;32m--> 438\u001b[0m \u001b[38;5;28;01mreturn\u001b[39;00m \u001b[43m_text_to_element\u001b[49m\u001b[43m(\u001b[49m\n\u001b[1;32m    439\u001b[0m \u001b[43m    \u001b[49m\u001b[43mtext\u001b[49m\u001b[43m,\u001b[49m\n\u001b[1;32m    440\u001b[0m \u001b[43m    \u001b[49m\u001b[43mtag_elem\u001b[49m\u001b[38;5;241;43m.\u001b[39;49m\u001b[43mtag\u001b[49m\u001b[43m,\u001b[49m\n\u001b[1;32m    441\u001b[0m \u001b[43m    \u001b[49m\u001b[43mancestortags\u001b[49m\u001b[43m,\u001b[49m\n\u001b[1;32m    442\u001b[0m \u001b[43m    \u001b[49m\u001b[43mlinks\u001b[49m\u001b[38;5;241;43m=\u001b[39;49m\u001b[43mlinks\u001b[49m\u001b[43m,\u001b[49m\n\u001b[1;32m    443\u001b[0m \u001b[43m    \u001b[49m\u001b[43memphasized_texts\u001b[49m\u001b[38;5;241;43m=\u001b[39;49m\u001b[43memphasized_texts\u001b[49m\u001b[43m,\u001b[49m\n\u001b[1;32m    444\u001b[0m \u001b[43m    \u001b[49m\u001b[43mdepth\u001b[49m\u001b[38;5;241;43m=\u001b[39;49m\u001b[43mdepth\u001b[49m\u001b[43m,\u001b[49m\n\u001b[1;32m    445\u001b[0m \u001b[43m\u001b[49m\u001b[43m)\u001b[49m\n",
      "File \u001b[0;32m~/TIL/2024/LLM/RAG_Langchain/venv/lib/python3.11/site-packages/unstructured/documents/html.py:486\u001b[0m, in \u001b[0;36m_text_to_element\u001b[0;34m(text, tag, ancestortags, depth, links, emphasized_texts)\u001b[0m\n\u001b[1;32m    484\u001b[0m \u001b[38;5;28;01mif\u001b[39;00m \u001b[38;5;28mlen\u001b[39m(text) \u001b[38;5;241m<\u001b[39m \u001b[38;5;241m2\u001b[39m:\n\u001b[1;32m    485\u001b[0m     \u001b[38;5;28;01mreturn\u001b[39;00m \u001b[38;5;28;01mNone\u001b[39;00m\n\u001b[0;32m--> 486\u001b[0m \u001b[38;5;28;01melif\u001b[39;00m \u001b[43mis_narrative_tag\u001b[49m\u001b[43m(\u001b[49m\u001b[43mtext\u001b[49m\u001b[43m,\u001b[49m\u001b[43m \u001b[49m\u001b[43mtag\u001b[49m\u001b[43m)\u001b[49m:\n\u001b[1;32m    487\u001b[0m     \u001b[38;5;28;01mreturn\u001b[39;00m HTMLNarrativeText(\n\u001b[1;32m    488\u001b[0m         text,\n\u001b[1;32m    489\u001b[0m         tag\u001b[38;5;241m=\u001b[39mtag,\n\u001b[0;32m   (...)\u001b[0m\n\u001b[1;32m    492\u001b[0m         emphasized_texts\u001b[38;5;241m=\u001b[39memphasized_texts,\n\u001b[1;32m    493\u001b[0m     )\n\u001b[1;32m    494\u001b[0m \u001b[38;5;28;01melif\u001b[39;00m is_heading_tag(tag) \u001b[38;5;129;01mor\u001b[39;00m is_possible_title(text):\n",
      "File \u001b[0;32m~/TIL/2024/LLM/RAG_Langchain/venv/lib/python3.11/site-packages/unstructured/documents/html.py:536\u001b[0m, in \u001b[0;36mis_narrative_tag\u001b[0;34m(text, tag)\u001b[0m\n\u001b[1;32m    534\u001b[0m \u001b[38;5;28;01mdef\u001b[39;00m \u001b[38;5;21mis_narrative_tag\u001b[39m(text: \u001b[38;5;28mstr\u001b[39m, tag: \u001b[38;5;28mstr\u001b[39m) \u001b[38;5;241m-\u001b[39m\u001b[38;5;241m>\u001b[39m \u001b[38;5;28mbool\u001b[39m:\n\u001b[1;32m    535\u001b[0m \u001b[38;5;250m    \u001b[39m\u001b[38;5;124;03m\"\"\"Uses tag information to infer whether text is narrative.\"\"\"\u001b[39;00m\n\u001b[0;32m--> 536\u001b[0m     \u001b[38;5;28;01mreturn\u001b[39;00m tag \u001b[38;5;129;01mnot\u001b[39;00m \u001b[38;5;129;01min\u001b[39;00m HEADING_TAGS \u001b[38;5;129;01mand\u001b[39;00m \u001b[43mis_possible_narrative_text\u001b[49m\u001b[43m(\u001b[49m\u001b[43mtext\u001b[49m\u001b[43m)\u001b[49m\n",
      "File \u001b[0;32m~/TIL/2024/LLM/RAG_Langchain/venv/lib/python3.11/site-packages/unstructured/partition/text_type.py:78\u001b[0m, in \u001b[0;36mis_possible_narrative_text\u001b[0;34m(text, cap_threshold, non_alpha_threshold, languages, language_checks)\u001b[0m\n\u001b[1;32m     73\u001b[0m \u001b[38;5;66;03m# NOTE(robinson): it gets read in from the environment as a string so we need to\u001b[39;00m\n\u001b[1;32m     74\u001b[0m \u001b[38;5;66;03m# cast it to a float\u001b[39;00m\n\u001b[1;32m     75\u001b[0m cap_threshold \u001b[38;5;241m=\u001b[39m \u001b[38;5;28mfloat\u001b[39m(\n\u001b[1;32m     76\u001b[0m     os\u001b[38;5;241m.\u001b[39menviron\u001b[38;5;241m.\u001b[39mget(\u001b[38;5;124m\"\u001b[39m\u001b[38;5;124mUNSTRUCTURED_NARRATIVE_TEXT_CAP_THRESHOLD\u001b[39m\u001b[38;5;124m\"\u001b[39m, cap_threshold),\n\u001b[1;32m     77\u001b[0m )\n\u001b[0;32m---> 78\u001b[0m \u001b[38;5;28;01mif\u001b[39;00m \u001b[43mexceeds_cap_ratio\u001b[49m\u001b[43m(\u001b[49m\u001b[43mtext\u001b[49m\u001b[43m,\u001b[49m\u001b[43m \u001b[49m\u001b[43mthreshold\u001b[49m\u001b[38;5;241;43m=\u001b[39;49m\u001b[43mcap_threshold\u001b[49m\u001b[43m)\u001b[49m:\n\u001b[1;32m     79\u001b[0m     trace_logger\u001b[38;5;241m.\u001b[39mdetail(\u001b[38;5;124mf\u001b[39m\u001b[38;5;124m\"\u001b[39m\u001b[38;5;124mNot narrative. Text exceeds cap ratio \u001b[39m\u001b[38;5;132;01m{\u001b[39;00mcap_threshold\u001b[38;5;132;01m}\u001b[39;00m\u001b[38;5;124m:\u001b[39m\u001b[38;5;130;01m\\n\u001b[39;00m\u001b[38;5;130;01m\\n\u001b[39;00m\u001b[38;5;132;01m{\u001b[39;00mtext\u001b[38;5;132;01m}\u001b[39;00m\u001b[38;5;124m\"\u001b[39m)  \u001b[38;5;66;03m# type: ignore # noqa: E501\u001b[39;00m\n\u001b[1;32m     80\u001b[0m     \u001b[38;5;28;01mreturn\u001b[39;00m \u001b[38;5;28;01mFalse\u001b[39;00m\n",
      "File \u001b[0;32m~/TIL/2024/LLM/RAG_Langchain/venv/lib/python3.11/site-packages/unstructured/partition/text_type.py:274\u001b[0m, in \u001b[0;36mexceeds_cap_ratio\u001b[0;34m(text, threshold)\u001b[0m\n\u001b[1;32m    261\u001b[0m \u001b[38;5;250m\u001b[39m\u001b[38;5;124;03m\"\"\"Checks the title ratio in a section of text. If a sufficient proportion of the words\u001b[39;00m\n\u001b[1;32m    262\u001b[0m \u001b[38;5;124;03mare capitalized, that can be indicated on non-narrative text (i.e. \"1A. Risk Factors\").\u001b[39;00m\n\u001b[1;32m    263\u001b[0m \n\u001b[0;32m   (...)\u001b[0m\n\u001b[1;32m    270\u001b[0m \u001b[38;5;124;03m    the function returns True\u001b[39;00m\n\u001b[1;32m    271\u001b[0m \u001b[38;5;124;03m\"\"\"\u001b[39;00m\n\u001b[1;32m    272\u001b[0m \u001b[38;5;66;03m# NOTE(robinson) - Currently limiting this to only sections of text with one sentence.\u001b[39;00m\n\u001b[1;32m    273\u001b[0m \u001b[38;5;66;03m# The assumption is that sections with multiple sentences are not titles.\u001b[39;00m\n\u001b[0;32m--> 274\u001b[0m \u001b[38;5;28;01mif\u001b[39;00m \u001b[43msentence_count\u001b[49m\u001b[43m(\u001b[49m\u001b[43mtext\u001b[49m\u001b[43m,\u001b[49m\u001b[43m \u001b[49m\u001b[38;5;241;43m3\u001b[39;49m\u001b[43m)\u001b[49m \u001b[38;5;241m>\u001b[39m \u001b[38;5;241m1\u001b[39m:\n\u001b[1;32m    275\u001b[0m     \u001b[38;5;28;01mreturn\u001b[39;00m \u001b[38;5;28;01mFalse\u001b[39;00m\n\u001b[1;32m    277\u001b[0m \u001b[38;5;28;01mif\u001b[39;00m text\u001b[38;5;241m.\u001b[39misupper():\n",
      "File \u001b[0;32m~/TIL/2024/LLM/RAG_Langchain/venv/lib/python3.11/site-packages/unstructured/partition/text_type.py:223\u001b[0m, in \u001b[0;36msentence_count\u001b[0;34m(text, min_length)\u001b[0m\n\u001b[1;32m    212\u001b[0m \u001b[38;5;28;01mdef\u001b[39;00m \u001b[38;5;21msentence_count\u001b[39m(text: \u001b[38;5;28mstr\u001b[39m, min_length: Optional[\u001b[38;5;28mint\u001b[39m] \u001b[38;5;241m=\u001b[39m \u001b[38;5;28;01mNone\u001b[39;00m) \u001b[38;5;241m-\u001b[39m\u001b[38;5;241m>\u001b[39m \u001b[38;5;28mint\u001b[39m:\n\u001b[1;32m    213\u001b[0m \u001b[38;5;250m    \u001b[39m\u001b[38;5;124;03m\"\"\"Checks the sentence count for a section of text. Titles should not be more than one\u001b[39;00m\n\u001b[1;32m    214\u001b[0m \u001b[38;5;124;03m    sentence.\u001b[39;00m\n\u001b[1;32m    215\u001b[0m \n\u001b[0;32m   (...)\u001b[0m\n\u001b[1;32m    221\u001b[0m \u001b[38;5;124;03m        The min number of words a section needs to be for it to be considered a sentence.\u001b[39;00m\n\u001b[1;32m    222\u001b[0m \u001b[38;5;124;03m    \"\"\"\u001b[39;00m\n\u001b[0;32m--> 223\u001b[0m     sentences \u001b[38;5;241m=\u001b[39m \u001b[43msent_tokenize\u001b[49m\u001b[43m(\u001b[49m\u001b[43mtext\u001b[49m\u001b[43m)\u001b[49m\n\u001b[1;32m    224\u001b[0m     count \u001b[38;5;241m=\u001b[39m \u001b[38;5;241m0\u001b[39m\n\u001b[1;32m    225\u001b[0m     \u001b[38;5;28;01mfor\u001b[39;00m sentence \u001b[38;5;129;01min\u001b[39;00m sentences:\n",
      "File \u001b[0;32m~/TIL/2024/LLM/RAG_Langchain/venv/lib/python3.11/site-packages/unstructured/nlp/tokenize.py:30\u001b[0m, in \u001b[0;36msent_tokenize\u001b[0;34m(text)\u001b[0m\n\u001b[1;32m     28\u001b[0m \u001b[38;5;250m\u001b[39m\u001b[38;5;124;03m\"\"\"A wrapper around the NLTK sentence tokenizer with LRU caching enabled.\"\"\"\u001b[39;00m\n\u001b[1;32m     29\u001b[0m _download_nltk_package_if_not_present(package_category\u001b[38;5;241m=\u001b[39m\u001b[38;5;124m\"\u001b[39m\u001b[38;5;124mtokenizers\u001b[39m\u001b[38;5;124m\"\u001b[39m, package_name\u001b[38;5;241m=\u001b[39m\u001b[38;5;124m\"\u001b[39m\u001b[38;5;124mpunkt\u001b[39m\u001b[38;5;124m\"\u001b[39m)\n\u001b[0;32m---> 30\u001b[0m \u001b[38;5;28;01mreturn\u001b[39;00m \u001b[43m_sent_tokenize\u001b[49m\u001b[43m(\u001b[49m\u001b[43mtext\u001b[49m\u001b[43m)\u001b[49m\n",
      "File \u001b[0;32m~/TIL/2024/LLM/RAG_Langchain/venv/lib/python3.11/site-packages/nltk/tokenize/__init__.py:106\u001b[0m, in \u001b[0;36msent_tokenize\u001b[0;34m(text, language)\u001b[0m\n\u001b[1;32m     96\u001b[0m \u001b[38;5;28;01mdef\u001b[39;00m \u001b[38;5;21msent_tokenize\u001b[39m(text, language\u001b[38;5;241m=\u001b[39m\u001b[38;5;124m\"\u001b[39m\u001b[38;5;124menglish\u001b[39m\u001b[38;5;124m\"\u001b[39m):\n\u001b[1;32m     97\u001b[0m \u001b[38;5;250m    \u001b[39m\u001b[38;5;124;03m\"\"\"\u001b[39;00m\n\u001b[1;32m     98\u001b[0m \u001b[38;5;124;03m    Return a sentence-tokenized copy of *text*,\u001b[39;00m\n\u001b[1;32m     99\u001b[0m \u001b[38;5;124;03m    using NLTK's recommended sentence tokenizer\u001b[39;00m\n\u001b[0;32m   (...)\u001b[0m\n\u001b[1;32m    104\u001b[0m \u001b[38;5;124;03m    :param language: the model name in the Punkt corpus\u001b[39;00m\n\u001b[1;32m    105\u001b[0m \u001b[38;5;124;03m    \"\"\"\u001b[39;00m\n\u001b[0;32m--> 106\u001b[0m     tokenizer \u001b[38;5;241m=\u001b[39m \u001b[43mload\u001b[49m\u001b[43m(\u001b[49m\u001b[38;5;124;43mf\u001b[39;49m\u001b[38;5;124;43m\"\u001b[39;49m\u001b[38;5;124;43mtokenizers/punkt/\u001b[39;49m\u001b[38;5;132;43;01m{\u001b[39;49;00m\u001b[43mlanguage\u001b[49m\u001b[38;5;132;43;01m}\u001b[39;49;00m\u001b[38;5;124;43m.pickle\u001b[39;49m\u001b[38;5;124;43m\"\u001b[39;49m\u001b[43m)\u001b[49m\n\u001b[1;32m    107\u001b[0m     \u001b[38;5;28;01mreturn\u001b[39;00m tokenizer\u001b[38;5;241m.\u001b[39mtokenize(text)\n",
      "File \u001b[0;32m~/TIL/2024/LLM/RAG_Langchain/venv/lib/python3.11/site-packages/nltk/data.py:750\u001b[0m, in \u001b[0;36mload\u001b[0;34m(resource_url, format, cache, verbose, logic_parser, fstruct_reader, encoding)\u001b[0m\n\u001b[1;32m    747\u001b[0m     \u001b[38;5;28mprint\u001b[39m(\u001b[38;5;124mf\u001b[39m\u001b[38;5;124m\"\u001b[39m\u001b[38;5;124m<<Loading \u001b[39m\u001b[38;5;132;01m{\u001b[39;00mresource_url\u001b[38;5;132;01m}\u001b[39;00m\u001b[38;5;124m>>\u001b[39m\u001b[38;5;124m\"\u001b[39m)\n\u001b[1;32m    749\u001b[0m \u001b[38;5;66;03m# Load the resource.\u001b[39;00m\n\u001b[0;32m--> 750\u001b[0m opened_resource \u001b[38;5;241m=\u001b[39m \u001b[43m_open\u001b[49m\u001b[43m(\u001b[49m\u001b[43mresource_url\u001b[49m\u001b[43m)\u001b[49m\n\u001b[1;32m    752\u001b[0m \u001b[38;5;28;01mif\u001b[39;00m \u001b[38;5;28mformat\u001b[39m \u001b[38;5;241m==\u001b[39m \u001b[38;5;124m\"\u001b[39m\u001b[38;5;124mraw\u001b[39m\u001b[38;5;124m\"\u001b[39m:\n\u001b[1;32m    753\u001b[0m     resource_val \u001b[38;5;241m=\u001b[39m opened_resource\u001b[38;5;241m.\u001b[39mread()\n",
      "File \u001b[0;32m~/TIL/2024/LLM/RAG_Langchain/venv/lib/python3.11/site-packages/nltk/data.py:876\u001b[0m, in \u001b[0;36m_open\u001b[0;34m(resource_url)\u001b[0m\n\u001b[1;32m    873\u001b[0m protocol, path_ \u001b[38;5;241m=\u001b[39m split_resource_url(resource_url)\n\u001b[1;32m    875\u001b[0m \u001b[38;5;28;01mif\u001b[39;00m protocol \u001b[38;5;129;01mis\u001b[39;00m \u001b[38;5;28;01mNone\u001b[39;00m \u001b[38;5;129;01mor\u001b[39;00m protocol\u001b[38;5;241m.\u001b[39mlower() \u001b[38;5;241m==\u001b[39m \u001b[38;5;124m\"\u001b[39m\u001b[38;5;124mnltk\u001b[39m\u001b[38;5;124m\"\u001b[39m:\n\u001b[0;32m--> 876\u001b[0m     \u001b[38;5;28;01mreturn\u001b[39;00m \u001b[43mfind\u001b[49m\u001b[43m(\u001b[49m\u001b[43mpath_\u001b[49m\u001b[43m,\u001b[49m\u001b[43m \u001b[49m\u001b[43mpath\u001b[49m\u001b[43m \u001b[49m\u001b[38;5;241;43m+\u001b[39;49m\u001b[43m \u001b[49m\u001b[43m[\u001b[49m\u001b[38;5;124;43m\"\u001b[39;49m\u001b[38;5;124;43m\"\u001b[39;49m\u001b[43m]\u001b[49m\u001b[43m)\u001b[49m\u001b[38;5;241m.\u001b[39mopen()\n\u001b[1;32m    877\u001b[0m \u001b[38;5;28;01melif\u001b[39;00m protocol\u001b[38;5;241m.\u001b[39mlower() \u001b[38;5;241m==\u001b[39m \u001b[38;5;124m\"\u001b[39m\u001b[38;5;124mfile\u001b[39m\u001b[38;5;124m\"\u001b[39m:\n\u001b[1;32m    878\u001b[0m     \u001b[38;5;66;03m# urllib might not use mode='rb', so handle this one ourselves:\u001b[39;00m\n\u001b[1;32m    879\u001b[0m     \u001b[38;5;28;01mreturn\u001b[39;00m find(path_, [\u001b[38;5;124m\"\u001b[39m\u001b[38;5;124m\"\u001b[39m])\u001b[38;5;241m.\u001b[39mopen()\n",
      "File \u001b[0;32m~/TIL/2024/LLM/RAG_Langchain/venv/lib/python3.11/site-packages/nltk/data.py:583\u001b[0m, in \u001b[0;36mfind\u001b[0;34m(resource_name, paths)\u001b[0m\n\u001b[1;32m    581\u001b[0m sep \u001b[38;5;241m=\u001b[39m \u001b[38;5;124m\"\u001b[39m\u001b[38;5;124m*\u001b[39m\u001b[38;5;124m\"\u001b[39m \u001b[38;5;241m*\u001b[39m \u001b[38;5;241m70\u001b[39m\n\u001b[1;32m    582\u001b[0m resource_not_found \u001b[38;5;241m=\u001b[39m \u001b[38;5;124mf\u001b[39m\u001b[38;5;124m\"\u001b[39m\u001b[38;5;130;01m\\n\u001b[39;00m\u001b[38;5;132;01m{\u001b[39;00msep\u001b[38;5;132;01m}\u001b[39;00m\u001b[38;5;130;01m\\n\u001b[39;00m\u001b[38;5;132;01m{\u001b[39;00mmsg\u001b[38;5;132;01m}\u001b[39;00m\u001b[38;5;130;01m\\n\u001b[39;00m\u001b[38;5;132;01m{\u001b[39;00msep\u001b[38;5;132;01m}\u001b[39;00m\u001b[38;5;130;01m\\n\u001b[39;00m\u001b[38;5;124m\"\u001b[39m\n\u001b[0;32m--> 583\u001b[0m \u001b[38;5;28;01mraise\u001b[39;00m \u001b[38;5;167;01mLookupError\u001b[39;00m(resource_not_found)\n",
      "\u001b[0;31mLookupError\u001b[0m: \n**********************************************************************\n  Resource \u001b[93mpunkt\u001b[0m not found.\n  Please use the NLTK Downloader to obtain the resource:\n\n  \u001b[31m>>> import nltk\n  >>> nltk.download('punkt')\n  \u001b[0m\n  For more information see: https://www.nltk.org/data.html\n\n  Attempted to load \u001b[93mtokenizers/punkt/PY3/english.pickle\u001b[0m\n\n  Searched in:\n    - '/Users/hobin/nltk_data'\n    - '/Users/hobin/TIL/2024/LLM/RAG_Langchain/venv/nltk_data'\n    - '/Users/hobin/TIL/2024/LLM/RAG_Langchain/venv/share/nltk_data'\n    - '/Users/hobin/TIL/2024/LLM/RAG_Langchain/venv/lib/nltk_data'\n    - '/usr/share/nltk_data'\n    - '/usr/local/share/nltk_data'\n    - '/usr/lib/nltk_data'\n    - '/usr/local/lib/nltk_data'\n    - ''\n**********************************************************************\n"
     ]
    }
   ],
   "source": [
    "from langchain.document_loaders import UnstructuredHTMLLoader\n",
    "\n",
    "# 텍스트 다 가져옴 \n",
    "loader = UnstructuredHTMLLoader(\"./sample_html.html\")\n",
    "data = loader.load()\n",
    "\n",
    "data"
   ]
  },
  {
   "cell_type": "code",
   "execution_count": 13,
   "metadata": {},
   "outputs": [
    {
     "ename": "FeatureNotFound",
     "evalue": "Couldn't find a tree builder with the features you requested: lxml. Do you need to install a parser library?",
     "output_type": "error",
     "traceback": [
      "\u001b[0;31m---------------------------------------------------------------------------\u001b[0m",
      "\u001b[0;31mFeatureNotFound\u001b[0m                           Traceback (most recent call last)",
      "Cell \u001b[0;32mIn[13], line 5\u001b[0m\n\u001b[1;32m      2\u001b[0m \u001b[38;5;28;01mfrom\u001b[39;00m \u001b[38;5;21;01mlangchain\u001b[39;00m\u001b[38;5;21;01m.\u001b[39;00m\u001b[38;5;21;01mdocument_loaders\u001b[39;00m \u001b[38;5;28;01mimport\u001b[39;00m BSHTMLLoader\n\u001b[1;32m      4\u001b[0m loader \u001b[38;5;241m=\u001b[39m BSHTMLLoader(\u001b[38;5;124m\"\u001b[39m\u001b[38;5;124m./sample_html.html\u001b[39m\u001b[38;5;124m\"\u001b[39m)\n\u001b[0;32m----> 5\u001b[0m data \u001b[38;5;241m=\u001b[39m \u001b[43mloader\u001b[49m\u001b[38;5;241;43m.\u001b[39;49m\u001b[43mload\u001b[49m\u001b[43m(\u001b[49m\u001b[43m)\u001b[49m\n\u001b[1;32m      7\u001b[0m data\n",
      "File \u001b[0;32m~/TIL/2024/LLM/RAG_Langchain/venv/lib/python3.11/site-packages/langchain_core/document_loaders/base.py:29\u001b[0m, in \u001b[0;36mBaseLoader.load\u001b[0;34m(self)\u001b[0m\n\u001b[1;32m     27\u001b[0m \u001b[38;5;28;01mdef\u001b[39;00m \u001b[38;5;21mload\u001b[39m(\u001b[38;5;28mself\u001b[39m) \u001b[38;5;241m-\u001b[39m\u001b[38;5;241m>\u001b[39m List[Document]:\n\u001b[1;32m     28\u001b[0m \u001b[38;5;250m    \u001b[39m\u001b[38;5;124;03m\"\"\"Load data into Document objects.\"\"\"\u001b[39;00m\n\u001b[0;32m---> 29\u001b[0m     \u001b[38;5;28;01mreturn\u001b[39;00m \u001b[38;5;28;43mlist\u001b[39;49m\u001b[43m(\u001b[49m\u001b[38;5;28;43mself\u001b[39;49m\u001b[38;5;241;43m.\u001b[39;49m\u001b[43mlazy_load\u001b[49m\u001b[43m(\u001b[49m\u001b[43m)\u001b[49m\u001b[43m)\u001b[49m\n",
      "File \u001b[0;32m~/TIL/2024/LLM/RAG_Langchain/venv/lib/python3.11/site-packages/langchain_community/document_loaders/html_bs.py:51\u001b[0m, in \u001b[0;36mBSHTMLLoader.lazy_load\u001b[0;34m(self)\u001b[0m\n\u001b[1;32m     48\u001b[0m \u001b[38;5;28;01mfrom\u001b[39;00m \u001b[38;5;21;01mbs4\u001b[39;00m \u001b[38;5;28;01mimport\u001b[39;00m BeautifulSoup\n\u001b[1;32m     50\u001b[0m \u001b[38;5;28;01mwith\u001b[39;00m \u001b[38;5;28mopen\u001b[39m(\u001b[38;5;28mself\u001b[39m\u001b[38;5;241m.\u001b[39mfile_path, \u001b[38;5;124m\"\u001b[39m\u001b[38;5;124mr\u001b[39m\u001b[38;5;124m\"\u001b[39m, encoding\u001b[38;5;241m=\u001b[39m\u001b[38;5;28mself\u001b[39m\u001b[38;5;241m.\u001b[39mopen_encoding) \u001b[38;5;28;01mas\u001b[39;00m f:\n\u001b[0;32m---> 51\u001b[0m     soup \u001b[38;5;241m=\u001b[39m \u001b[43mBeautifulSoup\u001b[49m\u001b[43m(\u001b[49m\u001b[43mf\u001b[49m\u001b[43m,\u001b[49m\u001b[43m \u001b[49m\u001b[38;5;241;43m*\u001b[39;49m\u001b[38;5;241;43m*\u001b[39;49m\u001b[38;5;28;43mself\u001b[39;49m\u001b[38;5;241;43m.\u001b[39;49m\u001b[43mbs_kwargs\u001b[49m\u001b[43m)\u001b[49m\n\u001b[1;32m     53\u001b[0m text \u001b[38;5;241m=\u001b[39m soup\u001b[38;5;241m.\u001b[39mget_text(\u001b[38;5;28mself\u001b[39m\u001b[38;5;241m.\u001b[39mget_text_separator)\n\u001b[1;32m     55\u001b[0m \u001b[38;5;28;01mif\u001b[39;00m soup\u001b[38;5;241m.\u001b[39mtitle:\n",
      "File \u001b[0;32m~/TIL/2024/LLM/RAG_Langchain/venv/lib/python3.11/site-packages/bs4/__init__.py:250\u001b[0m, in \u001b[0;36mBeautifulSoup.__init__\u001b[0;34m(self, markup, features, builder, parse_only, from_encoding, exclude_encodings, element_classes, **kwargs)\u001b[0m\n\u001b[1;32m    248\u001b[0m     builder_class \u001b[38;5;241m=\u001b[39m builder_registry\u001b[38;5;241m.\u001b[39mlookup(\u001b[38;5;241m*\u001b[39mfeatures)\n\u001b[1;32m    249\u001b[0m     \u001b[38;5;28;01mif\u001b[39;00m builder_class \u001b[38;5;129;01mis\u001b[39;00m \u001b[38;5;28;01mNone\u001b[39;00m:\n\u001b[0;32m--> 250\u001b[0m         \u001b[38;5;28;01mraise\u001b[39;00m FeatureNotFound(\n\u001b[1;32m    251\u001b[0m             \u001b[38;5;124m\"\u001b[39m\u001b[38;5;124mCouldn\u001b[39m\u001b[38;5;124m'\u001b[39m\u001b[38;5;124mt find a tree builder with the features you \u001b[39m\u001b[38;5;124m\"\u001b[39m\n\u001b[1;32m    252\u001b[0m             \u001b[38;5;124m\"\u001b[39m\u001b[38;5;124mrequested: \u001b[39m\u001b[38;5;132;01m%s\u001b[39;00m\u001b[38;5;124m. Do you need to install a parser library?\u001b[39m\u001b[38;5;124m\"\u001b[39m\n\u001b[1;32m    253\u001b[0m             \u001b[38;5;241m%\u001b[39m \u001b[38;5;124m\"\u001b[39m\u001b[38;5;124m,\u001b[39m\u001b[38;5;124m\"\u001b[39m\u001b[38;5;241m.\u001b[39mjoin(features))\n\u001b[1;32m    255\u001b[0m \u001b[38;5;66;03m# At this point either we have a TreeBuilder instance in\u001b[39;00m\n\u001b[1;32m    256\u001b[0m \u001b[38;5;66;03m# builder, or we have a builder_class that we can instantiate\u001b[39;00m\n\u001b[1;32m    257\u001b[0m \u001b[38;5;66;03m# with the remaining **kwargs.\u001b[39;00m\n\u001b[1;32m    258\u001b[0m \u001b[38;5;28;01mif\u001b[39;00m builder \u001b[38;5;129;01mis\u001b[39;00m \u001b[38;5;28;01mNone\u001b[39;00m:\n",
      "\u001b[0;31mFeatureNotFound\u001b[0m: Couldn't find a tree builder with the features you requested: lxml. Do you need to install a parser library?"
     ]
    }
   ],
   "source": [
    "# bs 이용해서 텍스트 추출 \n",
    "from langchain.document_loaders import BSHTMLLoader\n",
    "\n",
    "loader = BSHTMLLoader(\"./sample_html.html\")\n",
    "data = loader.load()\n",
    "\n",
    "data"
   ]
  },
  {
   "cell_type": "code",
   "execution_count": 14,
   "metadata": {},
   "outputs": [
    {
     "name": "stdout",
     "output_type": "stream",
     "text": [
      "Collecting jq\n",
      "  Downloading jq-1.7.0-cp311-cp311-macosx_10_9_x86_64.whl.metadata (6.8 kB)\n",
      "Downloading jq-1.7.0-cp311-cp311-macosx_10_9_x86_64.whl (407 kB)\n",
      "\u001b[2K   \u001b[90m━━━━━━━━━━━━━━━━━━━━━━━━━━━━━━━━━━━━━━━━\u001b[0m \u001b[32m407.2/407.2 kB\u001b[0m \u001b[31m10.6 MB/s\u001b[0m eta \u001b[36m0:00:00\u001b[0m00:01\u001b[0m\n",
      "\u001b[?25hInstalling collected packages: jq\n",
      "Successfully installed jq-1.7.0\n"
     ]
    }
   ],
   "source": [
    "# json loader\n",
    "\n",
    "# jq 문법 사용 가능 \n",
    "\n",
    "!python3 -m pip install jq"
   ]
  },
  {
   "cell_type": "code",
   "execution_count": 15,
   "metadata": {},
   "outputs": [
    {
     "name": "stdout",
     "output_type": "stream",
     "text": [
      "[Document(page_content=\"[{'Series': 'I', 'X': 10, 'Y': 8.04}, {'Series': 'I', 'X': 8, 'Y': 6.95}, {'Series': 'I', 'X': 13, 'Y': 7.58}, {'Series': 'I', 'X': 9, 'Y': 8.81}, {'Series': 'I', 'X': 11, 'Y': 8.33}, {'Series': 'I', 'X': 14, 'Y': 9.96}, {'Series': 'I', 'X': 6, 'Y': 7.24}, {'Series': 'I', 'X': 4, 'Y': 4.26}, {'Series': 'I', 'X': 12, 'Y': 10.84}, {'Series': 'I', 'X': 7, 'Y': 4.81}, {'Series': 'I', 'X': 5, 'Y': 5.68}, {'Series': 'II', 'X': 10, 'Y': 9.14}, {'Series': 'II', 'X': 8, 'Y': 8.14}, {'Series': 'II', 'X': 13, 'Y': 8.74}, {'Series': 'II', 'X': 9, 'Y': 8.77}, {'Series': 'II', 'X': 11, 'Y': 9.26}, {'Series': 'II', 'X': 14, 'Y': 8.1}, {'Series': 'II', 'X': 6, 'Y': 6.13}, {'Series': 'II', 'X': 4, 'Y': 3.1}, {'Series': 'II', 'X': 12, 'Y': 9.13}, {'Series': 'II', 'X': 7, 'Y': 7.26}, {'Series': 'II', 'X': 5, 'Y': 4.74}, {'Series': 'III', 'X': 10, 'Y': 7.46}, {'Series': 'III', 'X': 8, 'Y': 6.77}, {'Series': 'III', 'X': 13, 'Y': 12.74}, {'Series': 'III', 'X': 9, 'Y': 7.11}, {'Series': 'III', 'X': 11, 'Y': 7.81}, {'Series': 'III', 'X': 14, 'Y': 8.84}, {'Series': 'III', 'X': 6, 'Y': 6.08}, {'Series': 'III', 'X': 4, 'Y': 5.39}, {'Series': 'III', 'X': 12, 'Y': 8.15}, {'Series': 'III', 'X': 7, 'Y': 6.42}, {'Series': 'III', 'X': 5, 'Y': 5.73}, {'Series': 'IV', 'X': 8, 'Y': 6.58}, {'Series': 'IV', 'X': 8, 'Y': 5.76}, {'Series': 'IV', 'X': 8, 'Y': 7.71}, {'Series': 'IV', 'X': 8, 'Y': 8.84}, {'Series': 'IV', 'X': 8, 'Y': 8.47}, {'Series': 'IV', 'X': 8, 'Y': 7.04}, {'Series': 'IV', 'X': 8, 'Y': 5.25}, {'Series': 'IV', 'X': 19, 'Y': 12.5}, {'Series': 'IV', 'X': 8, 'Y': 5.56}, {'Series': 'IV', 'X': 8, 'Y': 7.91}, {'Series': 'IV', 'X': 8, 'Y': 6.89}]\", metadata={'source': '/Users/hobin/TIL/2024/LLM/RAG_Langchain/document_loader_example/anscombe.json', 'seq_num': 1})]\n"
     ]
    }
   ],
   "source": [
    "from langchain.document_loaders import JSONLoader\n",
    "from pprint import pprint\n",
    "\n",
    "loader = JSONLoader(\n",
    "    file_path=\"./anscombe.json\",\n",
    "    jq_schema=\".\",\n",
    "    text_content=False\n",
    ")\n",
    "\n",
    "data = loader.load()\n",
    "pprint(data)"
   ]
  },
  {
   "cell_type": "code",
   "execution_count": 18,
   "metadata": {},
   "outputs": [
    {
     "name": "stdout",
     "output_type": "stream",
     "text": [
      "[Document(page_content='I', metadata={'source': '/Users/hobin/TIL/2024/LLM/RAG_Langchain/document_loader_example/anscombe.json', 'seq_num': 1}),\n",
      " Document(page_content='I', metadata={'source': '/Users/hobin/TIL/2024/LLM/RAG_Langchain/document_loader_example/anscombe.json', 'seq_num': 2}),\n",
      " Document(page_content='I', metadata={'source': '/Users/hobin/TIL/2024/LLM/RAG_Langchain/document_loader_example/anscombe.json', 'seq_num': 3}),\n",
      " Document(page_content='I', metadata={'source': '/Users/hobin/TIL/2024/LLM/RAG_Langchain/document_loader_example/anscombe.json', 'seq_num': 4}),\n",
      " Document(page_content='I', metadata={'source': '/Users/hobin/TIL/2024/LLM/RAG_Langchain/document_loader_example/anscombe.json', 'seq_num': 5}),\n",
      " Document(page_content='I', metadata={'source': '/Users/hobin/TIL/2024/LLM/RAG_Langchain/document_loader_example/anscombe.json', 'seq_num': 6}),\n",
      " Document(page_content='I', metadata={'source': '/Users/hobin/TIL/2024/LLM/RAG_Langchain/document_loader_example/anscombe.json', 'seq_num': 7}),\n",
      " Document(page_content='I', metadata={'source': '/Users/hobin/TIL/2024/LLM/RAG_Langchain/document_loader_example/anscombe.json', 'seq_num': 8}),\n",
      " Document(page_content='I', metadata={'source': '/Users/hobin/TIL/2024/LLM/RAG_Langchain/document_loader_example/anscombe.json', 'seq_num': 9}),\n",
      " Document(page_content='I', metadata={'source': '/Users/hobin/TIL/2024/LLM/RAG_Langchain/document_loader_example/anscombe.json', 'seq_num': 10}),\n",
      " Document(page_content='I', metadata={'source': '/Users/hobin/TIL/2024/LLM/RAG_Langchain/document_loader_example/anscombe.json', 'seq_num': 11}),\n",
      " Document(page_content='II', metadata={'source': '/Users/hobin/TIL/2024/LLM/RAG_Langchain/document_loader_example/anscombe.json', 'seq_num': 12}),\n",
      " Document(page_content='II', metadata={'source': '/Users/hobin/TIL/2024/LLM/RAG_Langchain/document_loader_example/anscombe.json', 'seq_num': 13}),\n",
      " Document(page_content='II', metadata={'source': '/Users/hobin/TIL/2024/LLM/RAG_Langchain/document_loader_example/anscombe.json', 'seq_num': 14}),\n",
      " Document(page_content='II', metadata={'source': '/Users/hobin/TIL/2024/LLM/RAG_Langchain/document_loader_example/anscombe.json', 'seq_num': 15}),\n",
      " Document(page_content='II', metadata={'source': '/Users/hobin/TIL/2024/LLM/RAG_Langchain/document_loader_example/anscombe.json', 'seq_num': 16}),\n",
      " Document(page_content='II', metadata={'source': '/Users/hobin/TIL/2024/LLM/RAG_Langchain/document_loader_example/anscombe.json', 'seq_num': 17}),\n",
      " Document(page_content='II', metadata={'source': '/Users/hobin/TIL/2024/LLM/RAG_Langchain/document_loader_example/anscombe.json', 'seq_num': 18}),\n",
      " Document(page_content='II', metadata={'source': '/Users/hobin/TIL/2024/LLM/RAG_Langchain/document_loader_example/anscombe.json', 'seq_num': 19}),\n",
      " Document(page_content='II', metadata={'source': '/Users/hobin/TIL/2024/LLM/RAG_Langchain/document_loader_example/anscombe.json', 'seq_num': 20}),\n",
      " Document(page_content='II', metadata={'source': '/Users/hobin/TIL/2024/LLM/RAG_Langchain/document_loader_example/anscombe.json', 'seq_num': 21}),\n",
      " Document(page_content='II', metadata={'source': '/Users/hobin/TIL/2024/LLM/RAG_Langchain/document_loader_example/anscombe.json', 'seq_num': 22}),\n",
      " Document(page_content='III', metadata={'source': '/Users/hobin/TIL/2024/LLM/RAG_Langchain/document_loader_example/anscombe.json', 'seq_num': 23}),\n",
      " Document(page_content='III', metadata={'source': '/Users/hobin/TIL/2024/LLM/RAG_Langchain/document_loader_example/anscombe.json', 'seq_num': 24}),\n",
      " Document(page_content='III', metadata={'source': '/Users/hobin/TIL/2024/LLM/RAG_Langchain/document_loader_example/anscombe.json', 'seq_num': 25}),\n",
      " Document(page_content='III', metadata={'source': '/Users/hobin/TIL/2024/LLM/RAG_Langchain/document_loader_example/anscombe.json', 'seq_num': 26}),\n",
      " Document(page_content='III', metadata={'source': '/Users/hobin/TIL/2024/LLM/RAG_Langchain/document_loader_example/anscombe.json', 'seq_num': 27}),\n",
      " Document(page_content='III', metadata={'source': '/Users/hobin/TIL/2024/LLM/RAG_Langchain/document_loader_example/anscombe.json', 'seq_num': 28}),\n",
      " Document(page_content='III', metadata={'source': '/Users/hobin/TIL/2024/LLM/RAG_Langchain/document_loader_example/anscombe.json', 'seq_num': 29}),\n",
      " Document(page_content='III', metadata={'source': '/Users/hobin/TIL/2024/LLM/RAG_Langchain/document_loader_example/anscombe.json', 'seq_num': 30}),\n",
      " Document(page_content='III', metadata={'source': '/Users/hobin/TIL/2024/LLM/RAG_Langchain/document_loader_example/anscombe.json', 'seq_num': 31}),\n",
      " Document(page_content='III', metadata={'source': '/Users/hobin/TIL/2024/LLM/RAG_Langchain/document_loader_example/anscombe.json', 'seq_num': 32}),\n",
      " Document(page_content='III', metadata={'source': '/Users/hobin/TIL/2024/LLM/RAG_Langchain/document_loader_example/anscombe.json', 'seq_num': 33}),\n",
      " Document(page_content='IV', metadata={'source': '/Users/hobin/TIL/2024/LLM/RAG_Langchain/document_loader_example/anscombe.json', 'seq_num': 34}),\n",
      " Document(page_content='IV', metadata={'source': '/Users/hobin/TIL/2024/LLM/RAG_Langchain/document_loader_example/anscombe.json', 'seq_num': 35}),\n",
      " Document(page_content='IV', metadata={'source': '/Users/hobin/TIL/2024/LLM/RAG_Langchain/document_loader_example/anscombe.json', 'seq_num': 36}),\n",
      " Document(page_content='IV', metadata={'source': '/Users/hobin/TIL/2024/LLM/RAG_Langchain/document_loader_example/anscombe.json', 'seq_num': 37}),\n",
      " Document(page_content='IV', metadata={'source': '/Users/hobin/TIL/2024/LLM/RAG_Langchain/document_loader_example/anscombe.json', 'seq_num': 38}),\n",
      " Document(page_content='IV', metadata={'source': '/Users/hobin/TIL/2024/LLM/RAG_Langchain/document_loader_example/anscombe.json', 'seq_num': 39}),\n",
      " Document(page_content='IV', metadata={'source': '/Users/hobin/TIL/2024/LLM/RAG_Langchain/document_loader_example/anscombe.json', 'seq_num': 40}),\n",
      " Document(page_content='IV', metadata={'source': '/Users/hobin/TIL/2024/LLM/RAG_Langchain/document_loader_example/anscombe.json', 'seq_num': 41}),\n",
      " Document(page_content='IV', metadata={'source': '/Users/hobin/TIL/2024/LLM/RAG_Langchain/document_loader_example/anscombe.json', 'seq_num': 42}),\n",
      " Document(page_content='IV', metadata={'source': '/Users/hobin/TIL/2024/LLM/RAG_Langchain/document_loader_example/anscombe.json', 'seq_num': 43}),\n",
      " Document(page_content='IV', metadata={'source': '/Users/hobin/TIL/2024/LLM/RAG_Langchain/document_loader_example/anscombe.json', 'seq_num': 44})]\n"
     ]
    }
   ],
   "source": [
    "# Series를 키로 사용하기 \n",
    "loader = JSONLoader(\n",
    "    file_path=\"./anscombe.json\",\n",
    "    jq_schema=\".[].Series\",\n",
    "    text_content=False\n",
    ")\n",
    "\n",
    "data = loader.load()\n",
    "pprint(data)"
   ]
  },
  {
   "cell_type": "code",
   "execution_count": 19,
   "metadata": {},
   "outputs": [
    {
     "data": {
      "text/plain": [
       "[Document(page_content='RetrievalDocument loaders\\nDocument loaders\\nINFO\\nHead to Integrations for documentation on built-in document loader integrations with\\n3rd-party tools.\\nUse document loaders to load data from a source as Document\\'s. A Document is a piece of\\ntext and associated metadata. For example, there are document loaders for loading a simple\\n.txt ﬁle, for loading the text contents of any web page, or even for loading a transcript of a\\nYouTube video.\\nDocument loaders provide a \"load\" method for loading data as documents from a conﬁgured\\nsource. They optionally implement a \"lazy load\" as well for lazily loading data into memory.\\nGet started\\nThe simplest loader reads in a ﬁle as text and places it all into one document.\\nAPI Reference:\\nTextLoader\\nfrom langchain_community.document_loaders import TextLoader\\nloader = TextLoader(\"./index.md\")\\nloader.load()\\n[\\n    Document(page_content=\\'---\\\\nsidebar_position: 0\\\\n---\\\\n# Document \\nloaders\\\\n\\\\nUse document loaders to load data from a source as \\n`Document`\\\\\\'s. A `Document` is a piece of text\\\\nand associated \\nmetadata. For example, there are document loaders for loading a simple \\n`.txt` file, for loading the text\\\\ncontents of any web page, or even \\nfor loading a transcript of a YouTube video.\\\\n\\\\nEvery document loader \\nexposes two methods:\\\\n1. \"Load\": load documents from the configured 24. 5. 5. 오전  1:57 Document loaders | 🦜🔗  LangChain\\nhttps://python.langchain.com/docs/modules/data_connection/document_loaders/ 1/2', metadata={'source': './test.pdf', 'page': 0}),\n",
       " Document(page_content='Help us out by providing feedback on this documentation page:source\\\\n2. \"Load and split\": load documents from the configured source \\nand split them using the passed in text splitter\\\\n\\\\nThey optionally \\nimplement:\\\\n\\\\n3. \"Lazy load\": load documents into memory lazily\\\\n\\', \\nmetadata={\\'source\\': \\n\\'../docs/docs/modules/data_connection/document_loaders/index.md\\'})\\n]24. 5. 5. 오전  1:57 Document loaders | 🦜🔗  LangChain\\nhttps://python.langchain.com/docs/modules/data_connection/document_loaders/ 2/2', metadata={'source': './test.pdf', 'page': 1})]"
      ]
     },
     "execution_count": 19,
     "metadata": {},
     "output_type": "execute_result"
    }
   ],
   "source": [
    "# pdf file \n",
    "from langchain.document_loaders import PyPDFLoader\n",
    "\n",
    "loader = PyPDFLoader(\"./test.pdf\")\n",
    "data = loader.load_and_split()\n",
    "\n",
    "data"
   ]
  },
  {
   "cell_type": "code",
   "execution_count": null,
   "metadata": {},
   "outputs": [],
   "source": []
  }
 ],
 "metadata": {
  "kernelspec": {
   "display_name": "venv",
   "language": "python",
   "name": "python3"
  },
  "language_info": {
   "codemirror_mode": {
    "name": "ipython",
    "version": 3
   },
   "file_extension": ".py",
   "mimetype": "text/x-python",
   "name": "python",
   "nbconvert_exporter": "python",
   "pygments_lexer": "ipython3",
   "version": "3.11.7"
  }
 },
 "nbformat": 4,
 "nbformat_minor": 2
}
